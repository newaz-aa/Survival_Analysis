{
  "nbformat": 4,
  "nbformat_minor": 0,
  "metadata": {
    "kernelspec": {
      "display_name": "Python 3",
      "language": "python",
      "name": "python3"
    },
    "language_info": {
      "codemirror_mode": {
        "name": "ipython",
        "version": 3
      },
      "file_extension": ".py",
      "mimetype": "text/x-python",
      "name": "python",
      "nbconvert_exporter": "python",
      "pygments_lexer": "ipython3",
      "version": "3.7.6"
    },
    "colab": {
      "name": "survival_analysis_18_8_21.ipynb",
      "provenance": [],
      "collapsed_sections": []
    }
  },
  "cells": [
    {
      "cell_type": "code",
      "metadata": {
        "scrolled": true,
        "colab": {
          "base_uri": "https://localhost:8080/"
        },
        "id": "fv6j_bl6cnSe",
        "outputId": "617334a0-b417-4fc0-b606-282cf0644be8"
      },
      "source": [
        "!python --version"
      ],
      "execution_count": null,
      "outputs": [
        {
          "output_type": "stream",
          "text": [
            "Python 3.7.11\n"
          ],
          "name": "stdout"
        }
      ]
    },
    {
      "cell_type": "code",
      "metadata": {
        "colab": {
          "base_uri": "https://localhost:8080/"
        },
        "id": "VthfvcvPc701",
        "outputId": "d1d0397d-31d5-4e81-f4df-97ba1be67fe4"
      },
      "source": [
        "pip install scikit-survival"
      ],
      "execution_count": 2,
      "outputs": [
        {
          "output_type": "stream",
          "text": [
            "Collecting scikit-survival\n",
            "  Downloading scikit-survival-0.15.0.post0.tar.gz (2.4 MB)\n",
            "\u001b[K     |████████████████████████████████| 2.4 MB 5.0 MB/s \n",
            "\u001b[?25h  Installing build dependencies ... \u001b[?25l\u001b[?25hdone\n",
            "  Getting requirements to build wheel ... \u001b[?25l\u001b[?25herror\n",
            "\u001b[33mWARNING: Discarding https://files.pythonhosted.org/packages/91/f0/047ce90bb831ab34ca287d1d23f0c61b6546cd89494566898c0e17516990/scikit-survival-0.15.0.post0.tar.gz#sha256=572c3ac6818a9d0944fc4b8176eb948051654de857e28419ecc5060bcc6fbf37 (from https://pypi.org/simple/scikit-survival/) (requires-python:>=3.7). Command errored out with exit status 1: /usr/bin/python3 /usr/local/lib/python3.7/dist-packages/pip/_vendor/pep517/in_process/_in_process.py get_requires_for_build_wheel /tmp/tmpkzxrennd Check the logs for full command output.\u001b[0m\n",
            "  Downloading scikit-survival-0.14.0.tar.gz (2.3 MB)\n",
            "\u001b[K     |████████████████████████████████| 2.3 MB 46.0 MB/s \n",
            "\u001b[?25h  Installing build dependencies ... \u001b[?25l\u001b[?25hdone\n",
            "  Getting requirements to build wheel ... \u001b[?25l\u001b[?25hdone\n",
            "    Preparing wheel metadata ... \u001b[?25l\u001b[?25hdone\n",
            "Requirement already satisfied: osqp!=0.6.0,!=0.6.1 in /usr/local/lib/python3.7/dist-packages (from scikit-survival) (0.6.2.post0)\n",
            "Requirement already satisfied: scipy!=1.3.0,>=1.0 in /usr/local/lib/python3.7/dist-packages (from scikit-survival) (1.4.1)\n",
            "Requirement already satisfied: numexpr in /usr/local/lib/python3.7/dist-packages (from scikit-survival) (2.7.3)\n",
            "Requirement already satisfied: numpy in /usr/local/lib/python3.7/dist-packages (from scikit-survival) (1.19.5)\n",
            "Requirement already satisfied: joblib in /usr/local/lib/python3.7/dist-packages (from scikit-survival) (1.0.1)\n",
            "Requirement already satisfied: cvxopt in /usr/local/lib/python3.7/dist-packages (from scikit-survival) (1.2.6)\n",
            "Requirement already satisfied: pandas>=0.21 in /usr/local/lib/python3.7/dist-packages (from scikit-survival) (1.1.5)\n",
            "Requirement already satisfied: scikit-learn<0.24,>=0.22.0 in /usr/local/lib/python3.7/dist-packages (from scikit-survival) (0.22.2.post1)\n",
            "Requirement already satisfied: cvxpy>=1.0 in /usr/local/lib/python3.7/dist-packages (from scikit-survival) (1.0.31)\n",
            "Requirement already satisfied: multiprocess in /usr/local/lib/python3.7/dist-packages (from cvxpy>=1.0->scikit-survival) (0.70.12.2)\n",
            "Requirement already satisfied: ecos>=2 in /usr/local/lib/python3.7/dist-packages (from cvxpy>=1.0->scikit-survival) (2.0.7.post1)\n",
            "Requirement already satisfied: scs>=1.1.3 in /usr/local/lib/python3.7/dist-packages (from cvxpy>=1.0->scikit-survival) (2.1.4)\n",
            "Requirement already satisfied: qdldl in /usr/local/lib/python3.7/dist-packages (from osqp!=0.6.0,!=0.6.1->scikit-survival) (0.1.5.post0)\n",
            "Requirement already satisfied: pytz>=2017.2 in /usr/local/lib/python3.7/dist-packages (from pandas>=0.21->scikit-survival) (2018.9)\n",
            "Requirement already satisfied: python-dateutil>=2.7.3 in /usr/local/lib/python3.7/dist-packages (from pandas>=0.21->scikit-survival) (2.8.2)\n",
            "Requirement already satisfied: six>=1.5 in /usr/local/lib/python3.7/dist-packages (from python-dateutil>=2.7.3->pandas>=0.21->scikit-survival) (1.15.0)\n",
            "Requirement already satisfied: dill>=0.3.4 in /usr/local/lib/python3.7/dist-packages (from multiprocess->cvxpy>=1.0->scikit-survival) (0.3.4)\n",
            "Building wheels for collected packages: scikit-survival\n",
            "  Building wheel for scikit-survival (PEP 517) ... \u001b[?25l\u001b[?25hdone\n",
            "  Created wheel for scikit-survival: filename=scikit_survival-0.14.0-cp37-cp37m-linux_x86_64.whl size=4061679 sha256=d1a698b5aa61ae72375c903ed9297aafda89d35468dcf094aef8e389df89861d\n",
            "  Stored in directory: /root/.cache/pip/wheels/a2/3e/97/3722ba215d3dfe5429c1a7e4f24f535a3f46004fb29a16d505\n",
            "Successfully built scikit-survival\n",
            "Installing collected packages: scikit-survival\n",
            "Successfully installed scikit-survival-0.14.0\n"
          ],
          "name": "stdout"
        }
      ]
    },
    {
      "cell_type": "code",
      "metadata": {
        "colab": {
          "base_uri": "https://localhost:8080/"
        },
        "id": "SozqVEVbcnSg",
        "outputId": "cd3441f2-d4df-486b-a252-973757e8e145"
      },
      "source": [
        "from sksurv.datasets import load_veterans_lung_cancer\n",
        "\n",
        "data_x, data_y = load_veterans_lung_cancer()\n",
        "data_y"
      ],
      "execution_count": 3,
      "outputs": [
        {
          "output_type": "execute_result",
          "data": {
            "text/plain": [
              "array([( True,  72.), ( True, 411.), ( True, 228.), ( True, 126.),\n",
              "       ( True, 118.), ( True,  10.), ( True,  82.), ( True, 110.),\n",
              "       ( True, 314.), (False, 100.), ( True,  42.), ( True,   8.),\n",
              "       ( True, 144.), (False,  25.), ( True,  11.), ( True,  30.),\n",
              "       ( True, 384.), ( True,   4.), ( True,  54.), ( True,  13.),\n",
              "       (False, 123.), (False,  97.), ( True, 153.), ( True,  59.),\n",
              "       ( True, 117.), ( True,  16.), ( True, 151.), ( True,  22.),\n",
              "       ( True,  56.), ( True,  21.), ( True,  18.), ( True, 139.),\n",
              "       ( True,  20.), ( True,  31.), ( True,  52.), ( True, 287.),\n",
              "       ( True,  18.), ( True,  51.), ( True, 122.), ( True,  27.),\n",
              "       ( True,  54.), ( True,   7.), ( True,  63.), ( True, 392.),\n",
              "       ( True,  10.), ( True,   8.), ( True,  92.), ( True,  35.),\n",
              "       ( True, 117.), ( True, 132.), ( True,  12.), ( True, 162.),\n",
              "       ( True,   3.), ( True,  95.), ( True, 177.), ( True, 162.),\n",
              "       ( True, 216.), ( True, 553.), ( True, 278.), ( True,  12.),\n",
              "       ( True, 260.), ( True, 200.), ( True, 156.), (False, 182.),\n",
              "       ( True, 143.), ( True, 105.), ( True, 103.), ( True, 250.),\n",
              "       ( True, 100.), ( True, 999.), ( True, 112.), (False,  87.),\n",
              "       (False, 231.), ( True, 242.), ( True, 991.), ( True, 111.),\n",
              "       ( True,   1.), ( True, 587.), ( True, 389.), ( True,  33.),\n",
              "       ( True,  25.), ( True, 357.), ( True, 467.), ( True, 201.),\n",
              "       ( True,   1.), ( True,  30.), ( True,  44.), ( True, 283.),\n",
              "       ( True,  15.), ( True,  25.), (False, 103.), ( True,  21.),\n",
              "       ( True,  13.), ( True,  87.), ( True,   2.), ( True,  20.),\n",
              "       ( True,   7.), ( True,  24.), ( True,  99.), ( True,   8.),\n",
              "       ( True,  99.), ( True,  61.), ( True,  25.), ( True,  95.),\n",
              "       ( True,  80.), ( True,  51.), ( True,  29.), ( True,  24.),\n",
              "       ( True,  18.), (False,  83.), ( True,  31.), ( True,  51.),\n",
              "       ( True,  90.), ( True,  52.), ( True,  73.), ( True,   8.),\n",
              "       ( True,  36.), ( True,  48.), ( True,   7.), ( True, 140.),\n",
              "       ( True, 186.), ( True,  84.), ( True,  19.), ( True,  45.),\n",
              "       ( True,  80.), ( True,  52.), ( True, 164.), ( True,  19.),\n",
              "       ( True,  53.), ( True,  15.), ( True,  43.), ( True, 340.),\n",
              "       ( True, 133.), ( True, 111.), ( True, 231.), ( True, 378.),\n",
              "       ( True,  49.)],\n",
              "      dtype=[('Status', '?'), ('Survival_in_days', '<f8')])"
            ]
          },
          "metadata": {},
          "execution_count": 3
        }
      ]
    },
    {
      "cell_type": "code",
      "metadata": {
        "colab": {
          "base_uri": "https://localhost:8080/",
          "height": 298
        },
        "id": "6h603ZJtcnSh",
        "outputId": "31400996-c919-4a2b-a9ae-dc1b22252ac9"
      },
      "source": [
        "%matplotlib inline\n",
        "import matplotlib.pyplot as plt\n",
        "from sksurv.nonparametric import kaplan_meier_estimator\n",
        "\n",
        "time, survival_prob = kaplan_meier_estimator(data_y[\"Status\"], data_y[\"Survival_in_days\"])\n",
        "plt.step(time, survival_prob, where=\"post\")\n",
        "plt.ylabel(\"est. probability of survival $\\hat{S}(t)$\")\n",
        "plt.xlabel(\"time $t$\")"
      ],
      "execution_count": 30,
      "outputs": [
        {
          "output_type": "execute_result",
          "data": {
            "text/plain": [
              "Text(0.5, 0, 'time $t$')"
            ]
          },
          "metadata": {},
          "execution_count": 30
        },
        {
          "output_type": "display_data",
          "data": {
            "image/png": "[encoded data removed]",
            "text/plain": [
              "<Figure size 432x288 with 1 Axes>"
            ]
          },
          "metadata": {
            "needs_background": "light"
          }
        }
      ]
    },
    {
      "cell_type": "code",
      "metadata": {
        "colab": {
          "base_uri": "https://localhost:8080/"
        },
        "id": "hlESyY3JcnSi",
        "outputId": "c110e48d-f849-4f1a-86bf-4c9026f5bca1"
      },
      "source": [
        "data_x[\"Treatment\"].value_counts()"
      ],
      "execution_count": 28,
      "outputs": [
        {
          "output_type": "execute_result",
          "data": {
            "text/plain": [
              "standard    69\n",
              "test        68\n",
              "Name: Treatment, dtype: int64"
            ]
          },
          "metadata": {},
          "execution_count": 28
        }
      ]
    },
    {
      "cell_type": "code",
      "metadata": {
        "colab": {
          "base_uri": "https://localhost:8080/",
          "height": 298
        },
        "id": "A-SC3dExcnSj",
        "outputId": "d187114a-8119-4df6-92d4-17009bba6b54"
      },
      "source": [
        "for treatment_type in (\"standard\", \"test\"):\n",
        "    mask_treat = data_x[\"Treatment\"] == treatment_type\n",
        "    time_treatment, survival_prob_treatment = kaplan_meier_estimator(\n",
        "        data_y[\"Status\"][mask_treat],\n",
        "        data_y[\"Survival_in_days\"][mask_treat])\n",
        "\n",
        "    plt.step(time_treatment, survival_prob_treatment, where=\"post\",\n",
        "             label=\"Treatment = %s\" % treatment_type)\n",
        "\n",
        "plt.ylabel(\"est. probability of survival $\\hat{S}(t)$\")\n",
        "plt.xlabel(\"time $t$\")\n",
        "plt.legend(loc=\"best\")"
      ],
      "execution_count": 31,
      "outputs": [
        {
          "output_type": "execute_result",
          "data": {
            "text/plain": [
              "<matplotlib.legend.Legend at 0x7ff2720cfed0>"
            ]
          },
          "metadata": {},
          "execution_count": 31
        },
        {
          "output_type": "display_data",
          "data": {
            "image/png": "[encoded data removed]",
            "text/plain": [
              "<Figure size 432x288 with 1 Axes>"
            ]
          },
          "metadata": {
            "needs_background": "light"
          }
        }
      ]
    },
    {
      "cell_type": "code",
      "metadata": {
        "colab": {
          "base_uri": "https://localhost:8080/",
          "height": 298
        },
        "id": "wr4KgfX1cnSj",
        "outputId": "d3fd746b-368f-4492-f402-ef998c388f1a"
      },
      "source": [
        "for value in data_x[\"Celltype\"].unique():\n",
        "    mask = data_x[\"Celltype\"] == value\n",
        "    time_cell, survival_prob_cell = kaplan_meier_estimator(data_y[\"Status\"][mask],\n",
        "                                                           data_y[\"Survival_in_days\"][mask])\n",
        "    plt.step(time_cell, survival_prob_cell, where=\"post\",\n",
        "             label=\"%s (n = %d)\" % (value, mask.sum()))\n",
        "\n",
        "plt.ylabel(\"est. probability of survival $\\hat{S}(t)$\")\n",
        "plt.xlabel(\"time $t$\")\n",
        "plt.legend(loc=\"best\")"
      ],
      "execution_count": 32,
      "outputs": [
        {
          "output_type": "execute_result",
          "data": {
            "text/plain": [
              "<matplotlib.legend.Legend at 0x7ff271ad6210>"
            ]
          },
          "metadata": {},
          "execution_count": 32
        },
        {
          "output_type": "display_data",
          "data": {
            "image/png": "[encoded data removed]",
            "text/plain": [
              "<Figure size 432x288 with 1 Axes>"
            ]
          },
          "metadata": {
            "needs_background": "light"
          }
        }
      ]
    },
    {
      "cell_type": "code",
      "metadata": {
        "colab": {
          "base_uri": "https://localhost:8080/",
          "height": 223
        },
        "id": "7AvveTsmcnSk",
        "outputId": "82afd719-2bf9-4268-e79c-34247269cefc"
      },
      "source": [
        "from sksurv.preprocessing import OneHotEncoder\n",
        "\n",
        "data_x_numeric = OneHotEncoder().fit_transform(data_x)\n",
        "data_x_numeric.head()"
      ],
      "execution_count": 33,
      "outputs": [
        {
          "output_type": "execute_result",
          "data": {
            "text/html": [
              "<div>\n",
              "<style scoped>\n",
              "    .dataframe tbody tr th:only-of-type {\n",
              "        vertical-align: middle;\n",
              "    }\n",
              "\n",
              "    .dataframe tbody tr th {\n",
              "        vertical-align: top;\n",
              "    }\n",
              "\n",
              "    .dataframe thead th {\n",
              "        text-align: right;\n",
              "    }\n",
              "</style>\n",
              "<table border=\"1\" class=\"dataframe\">\n",
              "  <thead>\n",
              "    <tr style=\"text-align: right;\">\n",
              "      <th></th>\n",
              "      <th>Age_in_years</th>\n",
              "      <th>Celltype=large</th>\n",
              "      <th>Celltype=smallcell</th>\n",
              "      <th>Celltype=squamous</th>\n",
              "      <th>Karnofsky_score</th>\n",
              "      <th>Months_from_Diagnosis</th>\n",
              "      <th>Prior_therapy=yes</th>\n",
              "      <th>Treatment=test</th>\n",
              "    </tr>\n",
              "  </thead>\n",
              "  <tbody>\n",
              "    <tr>\n",
              "      <th>0</th>\n",
              "      <td>69.0</td>\n",
              "      <td>0.0</td>\n",
              "      <td>0.0</td>\n",
              "      <td>1.0</td>\n",
              "      <td>60.0</td>\n",
              "      <td>7.0</td>\n",
              "      <td>0.0</td>\n",
              "      <td>0.0</td>\n",
              "    </tr>\n",
              "    <tr>\n",
              "      <th>1</th>\n",
              "      <td>64.0</td>\n",
              "      <td>0.0</td>\n",
              "      <td>0.0</td>\n",
              "      <td>1.0</td>\n",
              "      <td>70.0</td>\n",
              "      <td>5.0</td>\n",
              "      <td>1.0</td>\n",
              "      <td>0.0</td>\n",
              "    </tr>\n",
              "    <tr>\n",
              "      <th>2</th>\n",
              "      <td>38.0</td>\n",
              "      <td>0.0</td>\n",
              "      <td>0.0</td>\n",
              "      <td>1.0</td>\n",
              "      <td>60.0</td>\n",
              "      <td>3.0</td>\n",
              "      <td>0.0</td>\n",
              "      <td>0.0</td>\n",
              "    </tr>\n",
              "    <tr>\n",
              "      <th>3</th>\n",
              "      <td>63.0</td>\n",
              "      <td>0.0</td>\n",
              "      <td>0.0</td>\n",
              "      <td>1.0</td>\n",
              "      <td>60.0</td>\n",
              "      <td>9.0</td>\n",
              "      <td>1.0</td>\n",
              "      <td>0.0</td>\n",
              "    </tr>\n",
              "    <tr>\n",
              "      <th>4</th>\n",
              "      <td>65.0</td>\n",
              "      <td>0.0</td>\n",
              "      <td>0.0</td>\n",
              "      <td>1.0</td>\n",
              "      <td>70.0</td>\n",
              "      <td>11.0</td>\n",
              "      <td>1.0</td>\n",
              "      <td>0.0</td>\n",
              "    </tr>\n",
              "  </tbody>\n",
              "</table>\n",
              "</div>"
            ],
            "text/plain": [
              "   Age_in_years  Celltype=large  ...  Prior_therapy=yes  Treatment=test\n",
              "0          69.0             0.0  ...                0.0             0.0\n",
              "1          64.0             0.0  ...                1.0             0.0\n",
              "2          38.0             0.0  ...                0.0             0.0\n",
              "3          63.0             0.0  ...                1.0             0.0\n",
              "4          65.0             0.0  ...                1.0             0.0\n",
              "\n",
              "[5 rows x 8 columns]"
            ]
          },
          "metadata": {},
          "execution_count": 33
        }
      ]
    },
    {
      "cell_type": "code",
      "metadata": {
        "colab": {
          "base_uri": "https://localhost:8080/"
        },
        "id": "PE6pf0xCcnSk",
        "outputId": "ec8084fc-148e-4c66-c935-0601671d1c0f"
      },
      "source": [
        "from sksurv.linear_model import CoxPHSurvivalAnalysis\n",
        "\n",
        "estimator = CoxPHSurvivalAnalysis()\n",
        "estimator.fit(data_x_numeric, data_y)"
      ],
      "execution_count": 34,
      "outputs": [
        {
          "output_type": "execute_result",
          "data": {
            "text/plain": [
              "CoxPHSurvivalAnalysis(alpha=0, n_iter=100, ties='breslow', tol=1e-09, verbose=0)"
            ]
          },
          "metadata": {},
          "execution_count": 34
        }
      ]
    },
    {
      "cell_type": "code",
      "metadata": {
        "colab": {
          "base_uri": "https://localhost:8080/"
        },
        "id": "HNidhMMjcnSl",
        "outputId": "430c5b37-a900-455d-c8c2-68962635b74a"
      },
      "source": [
        "import pandas as pd\n",
        "pd.Series(estimator.coef_, index=data_x_numeric.columns)"
      ],
      "execution_count": 35,
      "outputs": [
        {
          "output_type": "execute_result",
          "data": {
            "text/plain": [
              "Age_in_years            -0.008549\n",
              "Celltype=large          -0.788672\n",
              "Celltype=smallcell      -0.331813\n",
              "Celltype=squamous       -1.188299\n",
              "Karnofsky_score         -0.032622\n",
              "Months_from_Diagnosis   -0.000092\n",
              "Prior_therapy=yes        0.072327\n",
              "Treatment=test           0.289936\n",
              "dtype: float64"
            ]
          },
          "metadata": {},
          "execution_count": 35
        }
      ]
    },
    {
      "cell_type": "code",
      "metadata": {
        "colab": {
          "base_uri": "https://localhost:8080/",
          "height": 192
        },
        "id": "WXvfIaK0cnSl",
        "outputId": "9ca746e8-abf5-4d9a-fa05-0c1be369cc2f"
      },
      "source": [
        "x_new = pd.DataFrame.from_dict({\n",
        "    1: [65, 0, 0, 1, 60, 1, 0, 1],\n",
        "    2: [65, 0, 0, 1, 60, 1, 0, 0],\n",
        "    3: [65, 0, 1, 0, 60, 1, 0, 0],\n",
        "    4: [65, 0, 1, 0, 60, 1, 0, 1]},\n",
        "     columns=data_x_numeric.columns, orient='index')\n",
        "x_new"
      ],
      "execution_count": 37,
      "outputs": [
        {
          "output_type": "execute_result",
          "data": {
            "text/html": [
              "<div>\n",
              "<style scoped>\n",
              "    .dataframe tbody tr th:only-of-type {\n",
              "        vertical-align: middle;\n",
              "    }\n",
              "\n",
              "    .dataframe tbody tr th {\n",
              "        vertical-align: top;\n",
              "    }\n",
              "\n",
              "    .dataframe thead th {\n",
              "        text-align: right;\n",
              "    }\n",
              "</style>\n",
              "<table border=\"1\" class=\"dataframe\">\n",
              "  <thead>\n",
              "    <tr style=\"text-align: right;\">\n",
              "      <th></th>\n",
              "      <th>Age_in_years</th>\n",
              "      <th>Celltype=large</th>\n",
              "      <th>Celltype=smallcell</th>\n",
              "      <th>Celltype=squamous</th>\n",
              "      <th>Karnofsky_score</th>\n",
              "      <th>Months_from_Diagnosis</th>\n",
              "      <th>Prior_therapy=yes</th>\n",
              "      <th>Treatment=test</th>\n",
              "    </tr>\n",
              "  </thead>\n",
              "  <tbody>\n",
              "    <tr>\n",
              "      <th>1</th>\n",
              "      <td>65</td>\n",
              "      <td>0</td>\n",
              "      <td>0</td>\n",
              "      <td>1</td>\n",
              "      <td>60</td>\n",
              "      <td>1</td>\n",
              "      <td>0</td>\n",
              "      <td>1</td>\n",
              "    </tr>\n",
              "    <tr>\n",
              "      <th>2</th>\n",
              "      <td>65</td>\n",
              "      <td>0</td>\n",
              "      <td>0</td>\n",
              "      <td>1</td>\n",
              "      <td>60</td>\n",
              "      <td>1</td>\n",
              "      <td>0</td>\n",
              "      <td>0</td>\n",
              "    </tr>\n",
              "    <tr>\n",
              "      <th>3</th>\n",
              "      <td>65</td>\n",
              "      <td>0</td>\n",
              "      <td>1</td>\n",
              "      <td>0</td>\n",
              "      <td>60</td>\n",
              "      <td>1</td>\n",
              "      <td>0</td>\n",
              "      <td>0</td>\n",
              "    </tr>\n",
              "    <tr>\n",
              "      <th>4</th>\n",
              "      <td>65</td>\n",
              "      <td>0</td>\n",
              "      <td>1</td>\n",
              "      <td>0</td>\n",
              "      <td>60</td>\n",
              "      <td>1</td>\n",
              "      <td>0</td>\n",
              "      <td>1</td>\n",
              "    </tr>\n",
              "  </tbody>\n",
              "</table>\n",
              "</div>"
            ],
            "text/plain": [
              "   Age_in_years  Celltype=large  ...  Prior_therapy=yes  Treatment=test\n",
              "1            65               0  ...                  0               1\n",
              "2            65               0  ...                  0               0\n",
              "3            65               0  ...                  0               0\n",
              "4            65               0  ...                  0               1\n",
              "\n",
              "[4 rows x 8 columns]"
            ]
          },
          "metadata": {},
          "execution_count": 37
        }
      ]
    },
    {
      "cell_type": "code",
      "metadata": {
        "colab": {
          "base_uri": "https://localhost:8080/",
          "height": 298
        },
        "id": "f4cqanWLcnSm",
        "outputId": "65d4a36f-d793-4c0a-a6e0-ec5f35b02c6d"
      },
      "source": [
        "import numpy as np\n",
        "\n",
        "pred_surv = estimator.predict_survival_function(x_new)\n",
        "time_points = np.arange(1, 1000)\n",
        "for i, surv_func in enumerate(pred_surv):\n",
        "    plt.step(time_points, surv_func(time_points), where=\"post\",\n",
        "             label=\"Sample %d\" % (i + 1))\n",
        "plt.ylabel(\"est. probability of survival $\\hat{S}(t)$\")\n",
        "plt.xlabel(\"time $t$\")\n",
        "plt.legend(loc=\"best\")"
      ],
      "execution_count": 38,
      "outputs": [
        {
          "output_type": "execute_result",
          "data": {
            "text/plain": [
              "<matplotlib.legend.Legend at 0x7ff271a72790>"
            ]
          },
          "metadata": {},
          "execution_count": 38
        },
        {
          "output_type": "display_data",
          "data": {
            "image/png": "[encoded data removed]",
            "text/plain": [
              "<Figure size 432x288 with 1 Axes>"
            ]
          },
          "metadata": {
            "needs_background": "light"
          }
        }
      ]
    },
    {
      "cell_type": "code",
      "metadata": {
        "colab": {
          "base_uri": "https://localhost:8080/"
        },
        "id": "qKnug-g9cnSm",
        "outputId": "555451ed-3c75-45a2-af0b-62b9e55b0523"
      },
      "source": [
        "from sksurv.metrics import concordance_index_censored\n",
        "\n",
        "prediction = estimator.predict(data_x_numeric)\n",
        "result = concordance_index_censored(data_y[\"Status\"], data_y[\"Survival_in_days\"], prediction)\n",
        "result[0]"
      ],
      "execution_count": 39,
      "outputs": [
        {
          "output_type": "execute_result",
          "data": {
            "text/plain": [
              "0.7362562471603816"
            ]
          },
          "metadata": {},
          "execution_count": 39
        }
      ]
    },
    {
      "cell_type": "code",
      "metadata": {
        "colab": {
          "base_uri": "https://localhost:8080/"
        },
        "id": "cConoCD_cnSn",
        "outputId": "e6a841d9-e66e-4723-ad55-4f58f91eb6c6"
      },
      "source": [
        "def fit_and_score_features(X, y):\n",
        "    n_features = X.shape[1]\n",
        "    scores = np.empty(n_features)\n",
        "    m = CoxPHSurvivalAnalysis()\n",
        "    for j in range(n_features):\n",
        "        Xj = X[:, j:j+1]\n",
        "        m.fit(Xj, y)\n",
        "        scores[j] = m.score(Xj, y)\n",
        "    return scores\n",
        "\n",
        "scores = fit_and_score_features(data_x_numeric.values, data_y)\n",
        "pd.Series(scores, index=data_x_numeric.columns).sort_values(ascending=False)"
      ],
      "execution_count": null,
      "outputs": [
        {
          "output_type": "execute_result",
          "data": {
            "text/plain": [
              "Karnofsky_score          0.709280\n",
              "Celltype=smallcell       0.572581\n",
              "Celltype=large           0.561620\n",
              "Celltype=squamous        0.550545\n",
              "Treatment=test           0.525386\n",
              "Age_in_years             0.515107\n",
              "Months_from_Diagnosis    0.509030\n",
              "Prior_therapy=yes        0.494434\n",
              "dtype: float64"
            ]
          },
          "metadata": {},
          "execution_count": 18
        }
      ]
    },
    {
      "cell_type": "code",
      "metadata": {
        "id": "4u36kqtVcnSn"
      },
      "source": [
        "from sklearn.feature_selection import SelectKBest\n",
        "from sklearn.pipeline import Pipeline\n",
        "\n",
        "pipe = Pipeline([('encode', OneHotEncoder()),\n",
        "                 ('select', SelectKBest(fit_and_score_features, k=3)),\n",
        "                 ('model', CoxPHSurvivalAnalysis())])"
      ],
      "execution_count": null,
      "outputs": []
    },
    {
      "cell_type": "code",
      "metadata": {
        "colab": {
          "base_uri": "https://localhost:8080/",
          "height": 450
        },
        "id": "JHxaE01BcnSn",
        "outputId": "1ba15f33-b580-48e1-96db-9c7f6d306aa7"
      },
      "source": [
        "from sklearn.model_selection import GridSearchCV, KFold\n",
        "\n",
        "param_grid = {'select__k': np.arange(1, data_x_numeric.shape[1] + 1)}\n",
        "cv = KFold(n_splits=3, random_state=1, shuffle=True)\n",
        "gcv = GridSearchCV(pipe, param_grid, return_train_score=True, cv=cv)\n",
        "gcv.fit(data_x, data_y)\n",
        "\n",
        "results = pd.DataFrame(gcv.cv_results_).sort_values(by='mean_test_score', ascending=False)\n",
        "results.loc[:, ~results.columns.str.endswith(\"_time\")]"
      ],
      "execution_count": null,
      "outputs": [
        {
          "output_type": "execute_result",
          "data": {
            "text/html": [
              "<div>\n",
              "<style scoped>\n",
              "    .dataframe tbody tr th:only-of-type {\n",
              "        vertical-align: middle;\n",
              "    }\n",
              "\n",
              "    .dataframe tbody tr th {\n",
              "        vertical-align: top;\n",
              "    }\n",
              "\n",
              "    .dataframe thead th {\n",
              "        text-align: right;\n",
              "    }\n",
              "</style>\n",
              "<table border=\"1\" class=\"dataframe\">\n",
              "  <thead>\n",
              "    <tr style=\"text-align: right;\">\n",
              "      <th></th>\n",
              "      <th>param_select__k</th>\n",
              "      <th>params</th>\n",
              "      <th>split0_test_score</th>\n",
              "      <th>split1_test_score</th>\n",
              "      <th>split2_test_score</th>\n",
              "      <th>mean_test_score</th>\n",
              "      <th>std_test_score</th>\n",
              "      <th>rank_test_score</th>\n",
              "      <th>split0_train_score</th>\n",
              "      <th>split1_train_score</th>\n",
              "      <th>split2_train_score</th>\n",
              "      <th>mean_train_score</th>\n",
              "      <th>std_train_score</th>\n",
              "    </tr>\n",
              "  </thead>\n",
              "  <tbody>\n",
              "    <tr>\n",
              "      <th>4</th>\n",
              "      <td>5</td>\n",
              "      <td>{'select__k': 5}</td>\n",
              "      <td>0.716093</td>\n",
              "      <td>0.719862</td>\n",
              "      <td>0.716685</td>\n",
              "      <td>0.717547</td>\n",
              "      <td>0.001655</td>\n",
              "      <td>1</td>\n",
              "      <td>0.732087</td>\n",
              "      <td>0.742432</td>\n",
              "      <td>0.731710</td>\n",
              "      <td>0.735410</td>\n",
              "      <td>0.004968</td>\n",
              "    </tr>\n",
              "    <tr>\n",
              "      <th>3</th>\n",
              "      <td>4</td>\n",
              "      <td>{'select__k': 4}</td>\n",
              "      <td>0.697368</td>\n",
              "      <td>0.722332</td>\n",
              "      <td>0.727324</td>\n",
              "      <td>0.715675</td>\n",
              "      <td>0.013104</td>\n",
              "      <td>2</td>\n",
              "      <td>0.732477</td>\n",
              "      <td>0.743090</td>\n",
              "      <td>0.727138</td>\n",
              "      <td>0.734235</td>\n",
              "      <td>0.006630</td>\n",
              "    </tr>\n",
              "    <tr>\n",
              "      <th>7</th>\n",
              "      <td>8</td>\n",
              "      <td>{'select__k': 8}</td>\n",
              "      <td>0.706478</td>\n",
              "      <td>0.723320</td>\n",
              "      <td>0.716685</td>\n",
              "      <td>0.715494</td>\n",
              "      <td>0.006927</td>\n",
              "      <td>3</td>\n",
              "      <td>0.739356</td>\n",
              "      <td>0.746249</td>\n",
              "      <td>0.737519</td>\n",
              "      <td>0.741041</td>\n",
              "      <td>0.003758</td>\n",
              "    </tr>\n",
              "    <tr>\n",
              "      <th>5</th>\n",
              "      <td>6</td>\n",
              "      <td>{'select__k': 6}</td>\n",
              "      <td>0.704453</td>\n",
              "      <td>0.719368</td>\n",
              "      <td>0.716685</td>\n",
              "      <td>0.713502</td>\n",
              "      <td>0.006491</td>\n",
              "      <td>4</td>\n",
              "      <td>0.735722</td>\n",
              "      <td>0.747565</td>\n",
              "      <td>0.731710</td>\n",
              "      <td>0.738332</td>\n",
              "      <td>0.006731</td>\n",
              "    </tr>\n",
              "    <tr>\n",
              "      <th>6</th>\n",
              "      <td>7</td>\n",
              "      <td>{'select__k': 7}</td>\n",
              "      <td>0.700405</td>\n",
              "      <td>0.719368</td>\n",
              "      <td>0.720045</td>\n",
              "      <td>0.713272</td>\n",
              "      <td>0.009103</td>\n",
              "      <td>5</td>\n",
              "      <td>0.741173</td>\n",
              "      <td>0.742564</td>\n",
              "      <td>0.728621</td>\n",
              "      <td>0.737453</td>\n",
              "      <td>0.006271</td>\n",
              "    </tr>\n",
              "    <tr>\n",
              "      <th>1</th>\n",
              "      <td>2</td>\n",
              "      <td>{'select__k': 2}</td>\n",
              "      <td>0.699393</td>\n",
              "      <td>0.717885</td>\n",
              "      <td>0.718365</td>\n",
              "      <td>0.711881</td>\n",
              "      <td>0.008833</td>\n",
              "      <td>6</td>\n",
              "      <td>0.732087</td>\n",
              "      <td>0.727428</td>\n",
              "      <td>0.714409</td>\n",
              "      <td>0.724642</td>\n",
              "      <td>0.007481</td>\n",
              "    </tr>\n",
              "    <tr>\n",
              "      <th>0</th>\n",
              "      <td>1</td>\n",
              "      <td>{'select__k': 1}</td>\n",
              "      <td>0.698887</td>\n",
              "      <td>0.707510</td>\n",
              "      <td>0.712206</td>\n",
              "      <td>0.706201</td>\n",
              "      <td>0.005516</td>\n",
              "      <td>7</td>\n",
              "      <td>0.710670</td>\n",
              "      <td>0.714793</td>\n",
              "      <td>0.700445</td>\n",
              "      <td>0.708636</td>\n",
              "      <td>0.006032</td>\n",
              "    </tr>\n",
              "    <tr>\n",
              "      <th>2</th>\n",
              "      <td>3</td>\n",
              "      <td>{'select__k': 3}</td>\n",
              "      <td>0.708502</td>\n",
              "      <td>0.714427</td>\n",
              "      <td>0.694849</td>\n",
              "      <td>0.705926</td>\n",
              "      <td>0.008198</td>\n",
              "      <td>8</td>\n",
              "      <td>0.734034</td>\n",
              "      <td>0.722559</td>\n",
              "      <td>0.716634</td>\n",
              "      <td>0.724409</td>\n",
              "      <td>0.007223</td>\n",
              "    </tr>\n",
              "  </tbody>\n",
              "</table>\n",
              "</div>"
            ],
            "text/plain": [
              "  param_select__k            params  ...  mean_train_score  std_train_score\n",
              "4               5  {'select__k': 5}  ...          0.735410         0.004968\n",
              "3               4  {'select__k': 4}  ...          0.734235         0.006630\n",
              "7               8  {'select__k': 8}  ...          0.741041         0.003758\n",
              "5               6  {'select__k': 6}  ...          0.738332         0.006731\n",
              "6               7  {'select__k': 7}  ...          0.737453         0.006271\n",
              "1               2  {'select__k': 2}  ...          0.724642         0.007481\n",
              "0               1  {'select__k': 1}  ...          0.708636         0.006032\n",
              "2               3  {'select__k': 3}  ...          0.724409         0.007223\n",
              "\n",
              "[8 rows x 13 columns]"
            ]
          },
          "metadata": {},
          "execution_count": 20
        }
      ]
    },
    {
      "cell_type": "code",
      "metadata": {
        "colab": {
          "base_uri": "https://localhost:8080/"
        },
        "id": "BNdnpS3HcnSo",
        "outputId": "f7393c42-02b2-4e97-b3aa-7b34615057fa"
      },
      "source": [
        "pipe.set_params(**gcv.best_params_)\n",
        "pipe.fit(data_x, data_y)\n",
        "\n",
        "encoder, transformer, final_estimator = [s[1] for s in pipe.steps]\n",
        "pd.Series(final_estimator.coef_, index=encoder.encoded_columns_[transformer.get_support()])"
      ],
      "execution_count": null,
      "outputs": [
        {
          "output_type": "execute_result",
          "data": {
            "text/plain": [
              "Celltype=large       -0.754714\n",
              "Celltype=smallcell   -0.328059\n",
              "Celltype=squamous    -1.147673\n",
              "Karnofsky_score      -0.031112\n",
              "Treatment=test        0.257313\n",
              "dtype: float64"
            ]
          },
          "metadata": {},
          "execution_count": 21
        }
      ]
    },
    {
      "cell_type": "markdown",
      "metadata": {
        "id": "q53J5l2bcnSo"
      },
      "source": [
        "# Random Survival Forest"
      ]
    },
    {
      "cell_type": "code",
      "metadata": {
        "id": "DdAj8OiVcnSp"
      },
      "source": [
        "import pandas as pd\n",
        "import matplotlib.pyplot as plt\n",
        "import numpy as np\n",
        "%matplotlib inline\n",
        "\n",
        "from sklearn.model_selection import train_test_split\n",
        "from sklearn.preprocessing import OrdinalEncoder\n",
        "\n",
        "from sksurv.datasets import load_gbsg2\n",
        "from sksurv.preprocessing import OneHotEncoder\n",
        "from sksurv.ensemble import RandomSurvivalForest"
      ],
      "execution_count": 4,
      "outputs": []
    },
    {
      "cell_type": "code",
      "metadata": {
        "id": "onXQzl4fcnSp"
      },
      "source": [
        "X, y = load_gbsg2()\n",
        "\n",
        "grade_str = X.loc[:, \"tgrade\"].astype(object).values[:, np.newaxis]\n",
        "grade_num = OrdinalEncoder(categories=[[\"I\", \"II\", \"III\"]]).fit_transform(grade_str)\n",
        "\n",
        "X_no_grade = X.drop(\"tgrade\", axis=1)\n",
        "Xt = OneHotEncoder().fit_transform(X_no_grade)\n",
        "Xt = np.column_stack((Xt.values, grade_num))\n",
        "\n",
        "feature_names = X_no_grade.columns.tolist() + [\"tgrade\"]"
      ],
      "execution_count": 5,
      "outputs": []
    },
    {
      "cell_type": "code",
      "metadata": {
        "colab": {
          "base_uri": "https://localhost:8080/"
        },
        "id": "NTn4WbUGtfM5",
        "outputId": "2e23d4cf-36fa-409b-8298-59e6baaac0ad"
      },
      "source": [
        "feature_names"
      ],
      "execution_count": null,
      "outputs": [
        {
          "output_type": "execute_result",
          "data": {
            "text/plain": [
              "['age', 'estrec', 'horTh', 'menostat', 'pnodes', 'progrec', 'tsize', 'tgrade']"
            ]
          },
          "metadata": {},
          "execution_count": 77
        }
      ]
    },
    {
      "cell_type": "code",
      "metadata": {
        "id": "Y6zbVJFhcnSq"
      },
      "source": [
        "random_state = 20\n",
        "\n",
        "X_train, X_test, y_train, y_test = train_test_split(\n",
        "    Xt, y, test_size=0.25, random_state=random_state)"
      ],
      "execution_count": 8,
      "outputs": []
    },
    {
      "cell_type": "code",
      "metadata": {
        "colab": {
          "base_uri": "https://localhost:8080/"
        },
        "id": "GSLmkFl6hUEr",
        "outputId": "eddf350c-7bb8-43f1-90f6-1124d2a1671f"
      },
      "source": [
        "y_train"
      ],
      "execution_count": null,
      "outputs": [
        {
          "output_type": "execute_result",
          "data": {
            "text/plain": [
              "array([(False, 2009.), (False, 2233.), ( True,  308.), (False,  429.),\n",
              "       ( True, 1684.), (False, 1114.), ( True,  375.), ( True,  797.),\n",
              "       (False,  296.), (False,  768.), (False, 2065.), (False,  758.),\n",
              "       ( True,  348.), (False, 1443.), ( True, 1388.), (False, 2177.),\n",
              "       (False, 2659.), (False, 1331.), (False, 2132.), (False, 1833.),\n",
              "       ( True, 1162.), (False, 1342.), ( True,  169.), ( True,  369.),\n",
              "       ( True,  503.), ( True,  622.), (False, 1984.), ( True, 1493.),\n",
              "       (False,  723.), (False,  310.), (False, 1502.), (False,  828.),\n",
              "       (False, 1743.), ( True,  504.), (False, 1091.), (False,  553.),\n",
              "       (False, 1351.), (False, 1789.), ( True,  370.), (False, 1856.),\n",
              "       ( True,  195.), (False, 1722.), ( True,  836.), ( True, 1193.),\n",
              "       ( True,  160.), (False, 2551.), ( True,  552.), (False,  986.),\n",
              "       (False, 1926.), ( True,  547.), (False, 2467.), ( True,  171.),\n",
              "       (False, 1349.), (False, 2153.), (False,  615.), (False, 2156.),\n",
              "       (False, 1735.), (False, 1722.), (False,  792.), ( True,  476.),\n",
              "       (False, 1505.), (False,  273.), (False,  877.), (False, 2017.),\n",
              "       (False,  368.), (False, 1834.), (False, 1981.), (False, 2563.),\n",
              "       (False,  858.), (False, 2175.), (False, 2239.), (False, 1959.),\n",
              "       (False, 2161.), ( True,  415.), (False, 1100.), ( True,  392.),\n",
              "       ( True, 1814.), (False, 1786.), ( True,  861.), ( True, 1218.),\n",
              "       ( True,  629.), ( True,  238.), (False,   57.), ( True,  866.),\n",
              "       ( True,  500.), (False, 1089.), ( True,  712.), ( True,  491.),\n",
              "       ( True,  964.), (False,   17.), ( True,  612.), (False, 1195.),\n",
              "       (False, 2010.), ( True,  956.), ( True,  594.), ( True, 1343.),\n",
              "       (False,  722.), ( True,  624.), (False, 1729.), ( True,  893.),\n",
              "       (False, 1826.), (False, 1401.), (False,  916.), (False, 2192.),\n",
              "       (False,  857.), (False,  779.), ( True, 1150.), (False, 2271.),\n",
              "       ( True, 1449.), (False, 2148.), ( True,  308.), (False, 1435.),\n",
              "       (False, 1598.), (False,  322.), ( True,  417.), (False,  650.),\n",
              "       (False, 1557.), ( True,  410.), ( True,  637.), ( True,  286.),\n",
              "       ( True,  537.), ( True,  548.), ( True,  960.), ( True, 1036.),\n",
              "       ( True, 1587.), ( True,  698.), (False,  526.), ( True, 1059.),\n",
              "       ( True, 1280.), (False, 1701.), (False, 1807.), ( True,  731.),\n",
              "       (False,  770.), ( True,  827.), ( True, 1174.), (False,  741.),\n",
              "       ( True,  372.), ( True,  632.), (False, 1627.), ( True, 1502.),\n",
              "       ( True,  344.), ( True,  784.), (False, 1355.), ( True,  554.),\n",
              "       ( True,  865.), (False,  734.), (False,  945.), ( True,  491.),\n",
              "       ( True, 1306.), ( True, 1675.), ( True,  801.), (False, 1222.),\n",
              "       ( True,  394.), ( True,  769.), (False, 1722.), (False, 1283.),\n",
              "       ( True, 1280.), ( True,  385.), ( True,  540.), (False, 1624.),\n",
              "       (False,  695.), ( True,  918.), ( True, 1296.), ( True, 1002.),\n",
              "       ( True, 1521.), (False, 1323.), (False,  995.), (False,   18.),\n",
              "       (False, 2138.), (False,  974.), (False, 2056.), (False, 1956.),\n",
              "       ( True, 1589.), (False, 1692.), ( True, 1170.), (False, 1965.),\n",
              "       (False, 2449.), (False,   29.), ( True,  281.), ( True,  465.),\n",
              "       ( True,  550.), (False,  888.), (False, 2320.), ( True,  249.),\n",
              "       ( True,  460.), (False, 1352.), ( True, 1463.), (False, 1666.),\n",
              "       (False, 1230.), ( True, 1459.), (False, 1486.), ( True,  205.),\n",
              "       (False,   46.), (False,  623.), (False, 1760.), (False, 2027.),\n",
              "       ( True,  776.), (False, 1922.), (False,  853.), ( True,  579.),\n",
              "       (False,  737.), ( True,  530.), (False, 2144.), (False, 1356.),\n",
              "       ( True,  476.), (False,  859.), (False,   65.), ( True,  857.),\n",
              "       ( True,  481.), ( True,  730.), (False, 1475.), (False, 1582.),\n",
              "       (False, 1756.), ( True, 1105.), ( True,  307.), (False, 1483.),\n",
              "       ( True,  891.), (False, 1240.), ( True,  722.), ( True, 1701.),\n",
              "       ( True,  755.), ( True, 1246.), (False, 1629.), (False,  651.),\n",
              "       (False, 1655.), ( True,  426.), ( True,  883.), (False, 2456.),\n",
              "       ( True,  982.), (False, 1090.), ( True,  600.), (False, 1854.),\n",
              "       (False, 2237.), (False, 1222.), ( True,  374.), (False,  825.),\n",
              "       ( True,  819.), ( True,  191.), ( True,  624.), ( True, 1207.),\n",
              "       (False,  747.), ( True,  370.), (False, 1642.), ( True, 1918.),\n",
              "       ( True,  223.), (False, 1818.), ( True, 2039.), (False, 1125.),\n",
              "       ( True,  403.), ( True,  498.), ( True,  748.), (False, 2234.),\n",
              "       (False,   71.), (False, 1637.), (False, 1841.), ( True, 1460.),\n",
              "       (False, 1714.), ( True,  360.), (False,  541.), ( True,  550.),\n",
              "       (False, 1904.), (False,  652.), (False, 1089.), (False, 1729.),\n",
              "       (False, 1296.), ( True,  272.), (False,  733.), (False,  753.),\n",
              "       ( True, 1146.), ( True, 1730.), (False,  936.), (False, 1730.),\n",
              "       ( True,  357.), ( True,  544.), ( True,  177.), (False, 2388.),\n",
              "       ( True,  535.), ( True,  233.), ( True,  648.), ( True,  729.),\n",
              "       ( True, 1337.), (False, 1756.), ( True, 1094.), (False,  969.),\n",
              "       (False,  628.), (False, 1441.), ( True, 1105.), ( True,  797.),\n",
              "       (False, 2296.), (False, 1340.), ( True, 1990.), (False,  974.),\n",
              "       ( True, 1641.), ( True,  563.), (False,  276.), (False, 1152.),\n",
              "       (False,  675.), (False, 1826.), (False, 1250.), (False,  319.),\n",
              "       ( True,  336.), ( True, 1279.), (False,  766.), ( True, 1601.),\n",
              "       ( True,   98.), (False, 1884.), (False, 1341.), (False, 2370.),\n",
              "       (False, 1185.), (False, 1499.), ( True,  272.), (False,  529.),\n",
              "       ( True,  350.), (False,  972.), (False, 1578.), (False,  596.),\n",
              "       (False, 2007.), ( True,  420.), ( True,  670.), ( True, 1989.),\n",
              "       ( True, 1975.), ( True, 1371.), (False,  918.), ( True,  448.),\n",
              "       ( True, 1763.), (False,  657.), ( True,  650.), (False, 1232.),\n",
              "       (False, 1205.), (False,    8.), (False, 2049.), (False, 1861.),\n",
              "       (False,  567.), (False, 1685.), (False, 1119.), (False, 1977.),\n",
              "       (False, 1926.), ( True, 2372.), (False, 1707.), ( True,  559.),\n",
              "       ( True,  359.), (False, 1077.), ( True, 1157.), ( True,  772.),\n",
              "       (False,  629.), (False, 1212.), ( True, 1387.), ( True, 1140.),\n",
              "       ( True,  675.), (False, 1358.), (False,   63.), ( True,  241.),\n",
              "       (False, 1818.), ( True,  338.), ( True,  855.), (False,  424.),\n",
              "       (False, 1095.), (False,   42.), ( True,  745.), ( True,  475.),\n",
              "       (False, 1751.), (False, 1838.), (False, 1897.), (False, 2227.),\n",
              "       ( True,  438.), ( True,  959.), (False, 1459.), (False, 1350.),\n",
              "       ( True,  956.), (False, 1113.), ( True, 2030.), (False,  168.),\n",
              "       (False,  566.), ( True,  564.), (False, 1765.), (False, 1094.),\n",
              "       ( True,  533.), ( True, 1420.), (False, 1675.), ( True, 1043.),\n",
              "       (False,  114.), ( True,  889.), ( True,  184.), ( True,  293.),\n",
              "       (False,  631.), ( True,  571.), ( True,  173.), (False, 1703.),\n",
              "       ( True,  573.), (False, 2388.), ( True,  426.), ( True,   72.),\n",
              "       (False, 1840.), (False, 1693.), (False,  970.), (False,  855.),\n",
              "       (False, 1434.), (False,  570.), ( True,  544.), ( True,  991.),\n",
              "       ( True, 1977.), (False, 1604.), ( True, 1363.), ( True,  890.),\n",
              "       ( True,  554.), (False,  933.), (False,  942.), (False, 1846.),\n",
              "       (False, 2195.), (False, 1847.), (False,  918.), ( True,  536.),\n",
              "       (False,  967.), ( True,  329.), (False, 2051.), ( True,  242.),\n",
              "       (False,   15.), (False,  867.), ( True,  945.), (False, 2217.),\n",
              "       (False, 1771.), (False, 2030.), ( True, 1352.), ( True, 2034.),\n",
              "       (False, 1702.), ( True, 1192.), (False, 1095.), (False, 1177.),\n",
              "       (False, 1117.), (False, 1852.), (False,  186.), (False,  623.),\n",
              "       ( True,  180.), ( True,  557.), ( True,  754.), ( True,  575.),\n",
              "       ( True,  288.), ( True,  227.), ( True,  455.), ( True, 2015.),\n",
              "       ( True,  338.), ( True, 1806.), ( True, 1329.), ( True,  742.),\n",
              "       (False, 1645.), (False, 2297.), ( True,  586.), (False,  758.),\n",
              "       (False, 1820.), (False, 1093.), ( True,  838.), (False, 1490.),\n",
              "       ( True,  747.), (False, 1109.), (False, 1863.), ( True, 1225.),\n",
              "       (False, 1434.), ( True,  338.), ( True, 2093.), (False,  213.),\n",
              "       (False, 1277.), (False,  740.), (False, 1862.), ( True,  456.),\n",
              "       ( True,  525.), (False, 1163.), (False, 1838.), ( True, 1093.),\n",
              "       (False, 1721.), ( True,  120.), ( True,  247.), (False, 1625.),\n",
              "       ( True,  983.), ( True,  449.), (False,  761.), (False, 1979.),\n",
              "       (False, 1680.), ( True, 1679.), ( True, 1481.), ( True,  662.),\n",
              "       ( True,  502.), ( True,  762.), (False, 1343.), (False,  972.),\n",
              "       (False, 1653.), (False,  717.), ( True,  446.), (False, 2612.),\n",
              "       (False, 1666.), (False, 1858.), (False, 1560.), ( True,  518.),\n",
              "       (False,  806.), (False, 2024.), (False, 2052.), (False, 2172.),\n",
              "       (False,  663.), ( True,  359.), ( True,  281.), ( True,  598.),\n",
              "       (False, 1833.), ( True,  727.), (False, 2401.), (False,  432.),\n",
              "       ( True,  679.), (False, 2048.), (False, 1938.), (False, 1767.),\n",
              "       (False, 1703.), ( True,  436.), ( True,  529.), (False, 2471.),\n",
              "       (False, 2126.), (False,  841.)],\n",
              "      dtype=[('cens', '?'), ('time', '<f8')])"
            ]
          },
          "metadata": {},
          "execution_count": 36
        }
      ]
    },
    {
      "cell_type": "code",
      "metadata": {
        "id": "xIP5_Av_cnSq"
      },
      "source": [
        "rsf = RandomSurvivalForest(n_estimators=1000,\n",
        "                           min_samples_split=10,\n",
        "                           min_samples_leaf=15,\n",
        "                           max_features=\"sqrt\",\n",
        "                           n_jobs=-1,\n",
        "                           random_state=random_state)\n"
      ],
      "execution_count": null,
      "outputs": []
    },
    {
      "cell_type": "code",
      "metadata": {
        "colab": {
          "base_uri": "https://localhost:8080/"
        },
        "id": "HRu81-fpcnSq",
        "outputId": "fb9bf58d-920c-46ec-ffc1-6955bf36865c"
      },
      "source": [
        "rsf.fit(X_train, y_train)"
      ],
      "execution_count": null,
      "outputs": [
        {
          "output_type": "execute_result",
          "data": {
            "text/plain": [
              "RandomSurvivalForest(bootstrap=True, max_depth=None, max_features='sqrt',\n",
              "                     max_leaf_nodes=None, max_samples=None, min_samples_leaf=15,\n",
              "                     min_samples_split=10, min_weight_fraction_leaf=0.0,\n",
              "                     n_estimators=1000, n_jobs=-1, oob_score=False,\n",
              "                     random_state=20, verbose=0, warm_start=False)"
            ]
          },
          "metadata": {},
          "execution_count": 26
        }
      ]
    },
    {
      "cell_type": "code",
      "metadata": {
        "colab": {
          "base_uri": "https://localhost:8080/"
        },
        "id": "Qz-DHrcYcnSr",
        "outputId": "ea36ca94-cdd5-4453-bed8-aa2ed77cb8fe"
      },
      "source": [
        "rsf.score(X_test, y_test)"
      ],
      "execution_count": null,
      "outputs": [
        {
          "output_type": "execute_result",
          "data": {
            "text/plain": [
              "0.6759696016771488"
            ]
          },
          "metadata": {},
          "execution_count": 28
        }
      ]
    },
    {
      "cell_type": "markdown",
      "metadata": {
        "id": "O9E5gPkOd8XD"
      },
      "source": [
        "HF"
      ]
    },
    {
      "cell_type": "code",
      "metadata": {
        "colab": {
          "base_uri": "https://localhost:8080/",
          "height": 417
        },
        "id": "BA6gtZl9d-vS",
        "outputId": "ac3679d4-5986-4e1b-a219-16907a0eeea8"
      },
      "source": [
        "df=pd.read_csv('hf.csv')\n",
        "df"
      ],
      "execution_count": 7,
      "outputs": [
        {
          "output_type": "execute_result",
          "data": {
            "text/html": [
              "<div>\n",
              "<style scoped>\n",
              "    .dataframe tbody tr th:only-of-type {\n",
              "        vertical-align: middle;\n",
              "    }\n",
              "\n",
              "    .dataframe tbody tr th {\n",
              "        vertical-align: top;\n",
              "    }\n",
              "\n",
              "    .dataframe thead th {\n",
              "        text-align: right;\n",
              "    }\n",
              "</style>\n",
              "<table border=\"1\" class=\"dataframe\">\n",
              "  <thead>\n",
              "    <tr style=\"text-align: right;\">\n",
              "      <th></th>\n",
              "      <th>Age</th>\n",
              "      <th>anaemia</th>\n",
              "      <th>CPK</th>\n",
              "      <th>diabetes</th>\n",
              "      <th>Ejection Fraction</th>\n",
              "      <th>high_blood_pressure</th>\n",
              "      <th>Platelets</th>\n",
              "      <th>Serum Creatinine</th>\n",
              "      <th>serum_sodium</th>\n",
              "      <th>sex</th>\n",
              "      <th>smoking</th>\n",
              "      <th>time</th>\n",
              "      <th>DEATH_EVENT</th>\n",
              "    </tr>\n",
              "  </thead>\n",
              "  <tbody>\n",
              "    <tr>\n",
              "      <th>0</th>\n",
              "      <td>75.0</td>\n",
              "      <td>0</td>\n",
              "      <td>582</td>\n",
              "      <td>0</td>\n",
              "      <td>20</td>\n",
              "      <td>1</td>\n",
              "      <td>265000.00</td>\n",
              "      <td>1.9</td>\n",
              "      <td>130</td>\n",
              "      <td>1</td>\n",
              "      <td>0</td>\n",
              "      <td>4</td>\n",
              "      <td>1</td>\n",
              "    </tr>\n",
              "    <tr>\n",
              "      <th>1</th>\n",
              "      <td>55.0</td>\n",
              "      <td>0</td>\n",
              "      <td>7861</td>\n",
              "      <td>0</td>\n",
              "      <td>38</td>\n",
              "      <td>0</td>\n",
              "      <td>263358.03</td>\n",
              "      <td>1.1</td>\n",
              "      <td>136</td>\n",
              "      <td>1</td>\n",
              "      <td>0</td>\n",
              "      <td>6</td>\n",
              "      <td>1</td>\n",
              "    </tr>\n",
              "    <tr>\n",
              "      <th>2</th>\n",
              "      <td>65.0</td>\n",
              "      <td>0</td>\n",
              "      <td>146</td>\n",
              "      <td>0</td>\n",
              "      <td>20</td>\n",
              "      <td>0</td>\n",
              "      <td>162000.00</td>\n",
              "      <td>1.3</td>\n",
              "      <td>129</td>\n",
              "      <td>1</td>\n",
              "      <td>1</td>\n",
              "      <td>7</td>\n",
              "      <td>1</td>\n",
              "    </tr>\n",
              "    <tr>\n",
              "      <th>3</th>\n",
              "      <td>50.0</td>\n",
              "      <td>1</td>\n",
              "      <td>111</td>\n",
              "      <td>0</td>\n",
              "      <td>20</td>\n",
              "      <td>0</td>\n",
              "      <td>210000.00</td>\n",
              "      <td>1.9</td>\n",
              "      <td>137</td>\n",
              "      <td>1</td>\n",
              "      <td>0</td>\n",
              "      <td>7</td>\n",
              "      <td>1</td>\n",
              "    </tr>\n",
              "    <tr>\n",
              "      <th>4</th>\n",
              "      <td>65.0</td>\n",
              "      <td>1</td>\n",
              "      <td>160</td>\n",
              "      <td>1</td>\n",
              "      <td>20</td>\n",
              "      <td>0</td>\n",
              "      <td>327000.00</td>\n",
              "      <td>2.7</td>\n",
              "      <td>116</td>\n",
              "      <td>0</td>\n",
              "      <td>0</td>\n",
              "      <td>8</td>\n",
              "      <td>1</td>\n",
              "    </tr>\n",
              "    <tr>\n",
              "      <th>...</th>\n",
              "      <td>...</td>\n",
              "      <td>...</td>\n",
              "      <td>...</td>\n",
              "      <td>...</td>\n",
              "      <td>...</td>\n",
              "      <td>...</td>\n",
              "      <td>...</td>\n",
              "      <td>...</td>\n",
              "      <td>...</td>\n",
              "      <td>...</td>\n",
              "      <td>...</td>\n",
              "      <td>...</td>\n",
              "      <td>...</td>\n",
              "    </tr>\n",
              "    <tr>\n",
              "      <th>294</th>\n",
              "      <td>62.0</td>\n",
              "      <td>0</td>\n",
              "      <td>61</td>\n",
              "      <td>1</td>\n",
              "      <td>38</td>\n",
              "      <td>1</td>\n",
              "      <td>155000.00</td>\n",
              "      <td>1.1</td>\n",
              "      <td>143</td>\n",
              "      <td>1</td>\n",
              "      <td>1</td>\n",
              "      <td>270</td>\n",
              "      <td>0</td>\n",
              "    </tr>\n",
              "    <tr>\n",
              "      <th>295</th>\n",
              "      <td>55.0</td>\n",
              "      <td>0</td>\n",
              "      <td>1820</td>\n",
              "      <td>0</td>\n",
              "      <td>38</td>\n",
              "      <td>0</td>\n",
              "      <td>270000.00</td>\n",
              "      <td>1.2</td>\n",
              "      <td>139</td>\n",
              "      <td>0</td>\n",
              "      <td>0</td>\n",
              "      <td>271</td>\n",
              "      <td>0</td>\n",
              "    </tr>\n",
              "    <tr>\n",
              "      <th>296</th>\n",
              "      <td>45.0</td>\n",
              "      <td>0</td>\n",
              "      <td>2060</td>\n",
              "      <td>1</td>\n",
              "      <td>60</td>\n",
              "      <td>0</td>\n",
              "      <td>742000.00</td>\n",
              "      <td>0.8</td>\n",
              "      <td>138</td>\n",
              "      <td>0</td>\n",
              "      <td>0</td>\n",
              "      <td>278</td>\n",
              "      <td>0</td>\n",
              "    </tr>\n",
              "    <tr>\n",
              "      <th>297</th>\n",
              "      <td>45.0</td>\n",
              "      <td>0</td>\n",
              "      <td>2413</td>\n",
              "      <td>0</td>\n",
              "      <td>38</td>\n",
              "      <td>0</td>\n",
              "      <td>140000.00</td>\n",
              "      <td>1.4</td>\n",
              "      <td>140</td>\n",
              "      <td>1</td>\n",
              "      <td>1</td>\n",
              "      <td>280</td>\n",
              "      <td>0</td>\n",
              "    </tr>\n",
              "    <tr>\n",
              "      <th>298</th>\n",
              "      <td>50.0</td>\n",
              "      <td>0</td>\n",
              "      <td>196</td>\n",
              "      <td>0</td>\n",
              "      <td>45</td>\n",
              "      <td>0</td>\n",
              "      <td>395000.00</td>\n",
              "      <td>1.6</td>\n",
              "      <td>136</td>\n",
              "      <td>1</td>\n",
              "      <td>1</td>\n",
              "      <td>285</td>\n",
              "      <td>0</td>\n",
              "    </tr>\n",
              "  </tbody>\n",
              "</table>\n",
              "<p>299 rows × 13 columns</p>\n",
              "</div>"
            ],
            "text/plain": [
              "      Age  anaemia   CPK  diabetes  ...  sex  smoking  time  DEATH_EVENT\n",
              "0    75.0        0   582         0  ...    1        0     4            1\n",
              "1    55.0        0  7861         0  ...    1        0     6            1\n",
              "2    65.0        0   146         0  ...    1        1     7            1\n",
              "3    50.0        1   111         0  ...    1        0     7            1\n",
              "4    65.0        1   160         1  ...    0        0     8            1\n",
              "..    ...      ...   ...       ...  ...  ...      ...   ...          ...\n",
              "294  62.0        0    61         1  ...    1        1   270            0\n",
              "295  55.0        0  1820         0  ...    0        0   271            0\n",
              "296  45.0        0  2060         1  ...    0        0   278            0\n",
              "297  45.0        0  2413         0  ...    1        1   280            0\n",
              "298  50.0        0   196         0  ...    1        1   285            0\n",
              "\n",
              "[299 rows x 13 columns]"
            ]
          },
          "metadata": {},
          "execution_count": 7
        }
      ]
    },
    {
      "cell_type": "code",
      "metadata": {
        "id": "kNffz60OeKZp"
      },
      "source": [
        "rsf = RandomSurvivalForest(n_estimators=1000,\n",
        "                           min_samples_split=10,\n",
        "                           min_samples_leaf=15,\n",
        "                           max_features=\"sqrt\",\n",
        "                           n_jobs=-1,\n",
        "                           random_state=random_state)\n"
      ],
      "execution_count": 9,
      "outputs": []
    },
    {
      "cell_type": "code",
      "metadata": {
        "colab": {
          "base_uri": "https://localhost:8080/",
          "height": 417
        },
        "id": "Km_3LCGEgczy",
        "outputId": "e573f64d-73dd-45d5-ac91-8cceb0ab2a99"
      },
      "source": [
        "x=df.iloc[:,:-2]\n",
        "x"
      ],
      "execution_count": 10,
      "outputs": [
        {
          "output_type": "execute_result",
          "data": {
            "text/html": [
              "<div>\n",
              "<style scoped>\n",
              "    .dataframe tbody tr th:only-of-type {\n",
              "        vertical-align: middle;\n",
              "    }\n",
              "\n",
              "    .dataframe tbody tr th {\n",
              "        vertical-align: top;\n",
              "    }\n",
              "\n",
              "    .dataframe thead th {\n",
              "        text-align: right;\n",
              "    }\n",
              "</style>\n",
              "<table border=\"1\" class=\"dataframe\">\n",
              "  <thead>\n",
              "    <tr style=\"text-align: right;\">\n",
              "      <th></th>\n",
              "      <th>Age</th>\n",
              "      <th>anaemia</th>\n",
              "      <th>CPK</th>\n",
              "      <th>diabetes</th>\n",
              "      <th>Ejection Fraction</th>\n",
              "      <th>high_blood_pressure</th>\n",
              "      <th>Platelets</th>\n",
              "      <th>Serum Creatinine</th>\n",
              "      <th>serum_sodium</th>\n",
              "      <th>sex</th>\n",
              "      <th>smoking</th>\n",
              "    </tr>\n",
              "  </thead>\n",
              "  <tbody>\n",
              "    <tr>\n",
              "      <th>0</th>\n",
              "      <td>75.0</td>\n",
              "      <td>0</td>\n",
              "      <td>582</td>\n",
              "      <td>0</td>\n",
              "      <td>20</td>\n",
              "      <td>1</td>\n",
              "      <td>265000.00</td>\n",
              "      <td>1.9</td>\n",
              "      <td>130</td>\n",
              "      <td>1</td>\n",
              "      <td>0</td>\n",
              "    </tr>\n",
              "    <tr>\n",
              "      <th>1</th>\n",
              "      <td>55.0</td>\n",
              "      <td>0</td>\n",
              "      <td>7861</td>\n",
              "      <td>0</td>\n",
              "      <td>38</td>\n",
              "      <td>0</td>\n",
              "      <td>263358.03</td>\n",
              "      <td>1.1</td>\n",
              "      <td>136</td>\n",
              "      <td>1</td>\n",
              "      <td>0</td>\n",
              "    </tr>\n",
              "    <tr>\n",
              "      <th>2</th>\n",
              "      <td>65.0</td>\n",
              "      <td>0</td>\n",
              "      <td>146</td>\n",
              "      <td>0</td>\n",
              "      <td>20</td>\n",
              "      <td>0</td>\n",
              "      <td>162000.00</td>\n",
              "      <td>1.3</td>\n",
              "      <td>129</td>\n",
              "      <td>1</td>\n",
              "      <td>1</td>\n",
              "    </tr>\n",
              "    <tr>\n",
              "      <th>3</th>\n",
              "      <td>50.0</td>\n",
              "      <td>1</td>\n",
              "      <td>111</td>\n",
              "      <td>0</td>\n",
              "      <td>20</td>\n",
              "      <td>0</td>\n",
              "      <td>210000.00</td>\n",
              "      <td>1.9</td>\n",
              "      <td>137</td>\n",
              "      <td>1</td>\n",
              "      <td>0</td>\n",
              "    </tr>\n",
              "    <tr>\n",
              "      <th>4</th>\n",
              "      <td>65.0</td>\n",
              "      <td>1</td>\n",
              "      <td>160</td>\n",
              "      <td>1</td>\n",
              "      <td>20</td>\n",
              "      <td>0</td>\n",
              "      <td>327000.00</td>\n",
              "      <td>2.7</td>\n",
              "      <td>116</td>\n",
              "      <td>0</td>\n",
              "      <td>0</td>\n",
              "    </tr>\n",
              "    <tr>\n",
              "      <th>...</th>\n",
              "      <td>...</td>\n",
              "      <td>...</td>\n",
              "      <td>...</td>\n",
              "      <td>...</td>\n",
              "      <td>...</td>\n",
              "      <td>...</td>\n",
              "      <td>...</td>\n",
              "      <td>...</td>\n",
              "      <td>...</td>\n",
              "      <td>...</td>\n",
              "      <td>...</td>\n",
              "    </tr>\n",
              "    <tr>\n",
              "      <th>294</th>\n",
              "      <td>62.0</td>\n",
              "      <td>0</td>\n",
              "      <td>61</td>\n",
              "      <td>1</td>\n",
              "      <td>38</td>\n",
              "      <td>1</td>\n",
              "      <td>155000.00</td>\n",
              "      <td>1.1</td>\n",
              "      <td>143</td>\n",
              "      <td>1</td>\n",
              "      <td>1</td>\n",
              "    </tr>\n",
              "    <tr>\n",
              "      <th>295</th>\n",
              "      <td>55.0</td>\n",
              "      <td>0</td>\n",
              "      <td>1820</td>\n",
              "      <td>0</td>\n",
              "      <td>38</td>\n",
              "      <td>0</td>\n",
              "      <td>270000.00</td>\n",
              "      <td>1.2</td>\n",
              "      <td>139</td>\n",
              "      <td>0</td>\n",
              "      <td>0</td>\n",
              "    </tr>\n",
              "    <tr>\n",
              "      <th>296</th>\n",
              "      <td>45.0</td>\n",
              "      <td>0</td>\n",
              "      <td>2060</td>\n",
              "      <td>1</td>\n",
              "      <td>60</td>\n",
              "      <td>0</td>\n",
              "      <td>742000.00</td>\n",
              "      <td>0.8</td>\n",
              "      <td>138</td>\n",
              "      <td>0</td>\n",
              "      <td>0</td>\n",
              "    </tr>\n",
              "    <tr>\n",
              "      <th>297</th>\n",
              "      <td>45.0</td>\n",
              "      <td>0</td>\n",
              "      <td>2413</td>\n",
              "      <td>0</td>\n",
              "      <td>38</td>\n",
              "      <td>0</td>\n",
              "      <td>140000.00</td>\n",
              "      <td>1.4</td>\n",
              "      <td>140</td>\n",
              "      <td>1</td>\n",
              "      <td>1</td>\n",
              "    </tr>\n",
              "    <tr>\n",
              "      <th>298</th>\n",
              "      <td>50.0</td>\n",
              "      <td>0</td>\n",
              "      <td>196</td>\n",
              "      <td>0</td>\n",
              "      <td>45</td>\n",
              "      <td>0</td>\n",
              "      <td>395000.00</td>\n",
              "      <td>1.6</td>\n",
              "      <td>136</td>\n",
              "      <td>1</td>\n",
              "      <td>1</td>\n",
              "    </tr>\n",
              "  </tbody>\n",
              "</table>\n",
              "<p>299 rows × 11 columns</p>\n",
              "</div>"
            ],
            "text/plain": [
              "      Age  anaemia   CPK  ...  serum_sodium  sex  smoking\n",
              "0    75.0        0   582  ...           130    1        0\n",
              "1    55.0        0  7861  ...           136    1        0\n",
              "2    65.0        0   146  ...           129    1        1\n",
              "3    50.0        1   111  ...           137    1        0\n",
              "4    65.0        1   160  ...           116    0        0\n",
              "..    ...      ...   ...  ...           ...  ...      ...\n",
              "294  62.0        0    61  ...           143    1        1\n",
              "295  55.0        0  1820  ...           139    0        0\n",
              "296  45.0        0  2060  ...           138    0        0\n",
              "297  45.0        0  2413  ...           140    1        1\n",
              "298  50.0        0   196  ...           136    1        1\n",
              "\n",
              "[299 rows x 11 columns]"
            ]
          },
          "metadata": {},
          "execution_count": 10
        }
      ]
    },
    {
      "cell_type": "code",
      "metadata": {
        "colab": {
          "base_uri": "https://localhost:8080/",
          "height": 417
        },
        "id": "a1t4DVeegc2k",
        "outputId": "6eb63f77-1c3d-4516-9d0b-f725761a540d"
      },
      "source": [
        "y=df.iloc[:,-2:]\n",
        "y"
      ],
      "execution_count": 11,
      "outputs": [
        {
          "output_type": "execute_result",
          "data": {
            "text/html": [
              "<div>\n",
              "<style scoped>\n",
              "    .dataframe tbody tr th:only-of-type {\n",
              "        vertical-align: middle;\n",
              "    }\n",
              "\n",
              "    .dataframe tbody tr th {\n",
              "        vertical-align: top;\n",
              "    }\n",
              "\n",
              "    .dataframe thead th {\n",
              "        text-align: right;\n",
              "    }\n",
              "</style>\n",
              "<table border=\"1\" class=\"dataframe\">\n",
              "  <thead>\n",
              "    <tr style=\"text-align: right;\">\n",
              "      <th></th>\n",
              "      <th>time</th>\n",
              "      <th>DEATH_EVENT</th>\n",
              "    </tr>\n",
              "  </thead>\n",
              "  <tbody>\n",
              "    <tr>\n",
              "      <th>0</th>\n",
              "      <td>4</td>\n",
              "      <td>1</td>\n",
              "    </tr>\n",
              "    <tr>\n",
              "      <th>1</th>\n",
              "      <td>6</td>\n",
              "      <td>1</td>\n",
              "    </tr>\n",
              "    <tr>\n",
              "      <th>2</th>\n",
              "      <td>7</td>\n",
              "      <td>1</td>\n",
              "    </tr>\n",
              "    <tr>\n",
              "      <th>3</th>\n",
              "      <td>7</td>\n",
              "      <td>1</td>\n",
              "    </tr>\n",
              "    <tr>\n",
              "      <th>4</th>\n",
              "      <td>8</td>\n",
              "      <td>1</td>\n",
              "    </tr>\n",
              "    <tr>\n",
              "      <th>...</th>\n",
              "      <td>...</td>\n",
              "      <td>...</td>\n",
              "    </tr>\n",
              "    <tr>\n",
              "      <th>294</th>\n",
              "      <td>270</td>\n",
              "      <td>0</td>\n",
              "    </tr>\n",
              "    <tr>\n",
              "      <th>295</th>\n",
              "      <td>271</td>\n",
              "      <td>0</td>\n",
              "    </tr>\n",
              "    <tr>\n",
              "      <th>296</th>\n",
              "      <td>278</td>\n",
              "      <td>0</td>\n",
              "    </tr>\n",
              "    <tr>\n",
              "      <th>297</th>\n",
              "      <td>280</td>\n",
              "      <td>0</td>\n",
              "    </tr>\n",
              "    <tr>\n",
              "      <th>298</th>\n",
              "      <td>285</td>\n",
              "      <td>0</td>\n",
              "    </tr>\n",
              "  </tbody>\n",
              "</table>\n",
              "<p>299 rows × 2 columns</p>\n",
              "</div>"
            ],
            "text/plain": [
              "     time  DEATH_EVENT\n",
              "0       4            1\n",
              "1       6            1\n",
              "2       7            1\n",
              "3       7            1\n",
              "4       8            1\n",
              "..    ...          ...\n",
              "294   270            0\n",
              "295   271            0\n",
              "296   278            0\n",
              "297   280            0\n",
              "298   285            0\n",
              "\n",
              "[299 rows x 2 columns]"
            ]
          },
          "metadata": {},
          "execution_count": 11
        }
      ]
    },
    {
      "cell_type": "code",
      "metadata": {
        "id": "PyDMRU57hgm_"
      },
      "source": [
        "yy=pd.concat([y.DEATH_EVENT,y.time],axis=1)"
      ],
      "execution_count": 12,
      "outputs": []
    },
    {
      "cell_type": "code",
      "metadata": {
        "colab": {
          "base_uri": "https://localhost:8080/",
          "height": 417
        },
        "id": "BW0oKouYiUzp",
        "outputId": "f579ee42-fefa-4505-ca6d-9fd952324b5f"
      },
      "source": [
        "yy"
      ],
      "execution_count": 13,
      "outputs": [
        {
          "output_type": "execute_result",
          "data": {
            "text/html": [
              "<div>\n",
              "<style scoped>\n",
              "    .dataframe tbody tr th:only-of-type {\n",
              "        vertical-align: middle;\n",
              "    }\n",
              "\n",
              "    .dataframe tbody tr th {\n",
              "        vertical-align: top;\n",
              "    }\n",
              "\n",
              "    .dataframe thead th {\n",
              "        text-align: right;\n",
              "    }\n",
              "</style>\n",
              "<table border=\"1\" class=\"dataframe\">\n",
              "  <thead>\n",
              "    <tr style=\"text-align: right;\">\n",
              "      <th></th>\n",
              "      <th>DEATH_EVENT</th>\n",
              "      <th>time</th>\n",
              "    </tr>\n",
              "  </thead>\n",
              "  <tbody>\n",
              "    <tr>\n",
              "      <th>0</th>\n",
              "      <td>1</td>\n",
              "      <td>4</td>\n",
              "    </tr>\n",
              "    <tr>\n",
              "      <th>1</th>\n",
              "      <td>1</td>\n",
              "      <td>6</td>\n",
              "    </tr>\n",
              "    <tr>\n",
              "      <th>2</th>\n",
              "      <td>1</td>\n",
              "      <td>7</td>\n",
              "    </tr>\n",
              "    <tr>\n",
              "      <th>3</th>\n",
              "      <td>1</td>\n",
              "      <td>7</td>\n",
              "    </tr>\n",
              "    <tr>\n",
              "      <th>4</th>\n",
              "      <td>1</td>\n",
              "      <td>8</td>\n",
              "    </tr>\n",
              "    <tr>\n",
              "      <th>...</th>\n",
              "      <td>...</td>\n",
              "      <td>...</td>\n",
              "    </tr>\n",
              "    <tr>\n",
              "      <th>294</th>\n",
              "      <td>0</td>\n",
              "      <td>270</td>\n",
              "    </tr>\n",
              "    <tr>\n",
              "      <th>295</th>\n",
              "      <td>0</td>\n",
              "      <td>271</td>\n",
              "    </tr>\n",
              "    <tr>\n",
              "      <th>296</th>\n",
              "      <td>0</td>\n",
              "      <td>278</td>\n",
              "    </tr>\n",
              "    <tr>\n",
              "      <th>297</th>\n",
              "      <td>0</td>\n",
              "      <td>280</td>\n",
              "    </tr>\n",
              "    <tr>\n",
              "      <th>298</th>\n",
              "      <td>0</td>\n",
              "      <td>285</td>\n",
              "    </tr>\n",
              "  </tbody>\n",
              "</table>\n",
              "<p>299 rows × 2 columns</p>\n",
              "</div>"
            ],
            "text/plain": [
              "     DEATH_EVENT  time\n",
              "0              1     4\n",
              "1              1     6\n",
              "2              1     7\n",
              "3              1     7\n",
              "4              1     8\n",
              "..           ...   ...\n",
              "294            0   270\n",
              "295            0   271\n",
              "296            0   278\n",
              "297            0   280\n",
              "298            0   285\n",
              "\n",
              "[299 rows x 2 columns]"
            ]
          },
          "metadata": {},
          "execution_count": 13
        }
      ]
    },
    {
      "cell_type": "code",
      "metadata": {
        "id": "twOhEm3HiXIz",
        "colab": {
          "base_uri": "https://localhost:8080/"
        },
        "outputId": "ded55e58-2ff0-4c47-8ca4-cd60f53d006a"
      },
      "source": [
        "yy.to_numpy()"
      ],
      "execution_count": 14,
      "outputs": [
        {
          "output_type": "execute_result",
          "data": {
            "text/plain": [
              "array([[  1,   4],\n",
              "       [  1,   6],\n",
              "       [  1,   7],\n",
              "       [  1,   7],\n",
              "       [  1,   8],\n",
              "       [  1,   8],\n",
              "       [  1,  10],\n",
              "       [  1,  10],\n",
              "       [  1,  10],\n",
              "       [  1,  10],\n",
              "       [  1,  10],\n",
              "       [  1,  10],\n",
              "       [  1,  11],\n",
              "       [  1,  11],\n",
              "       [  0,  12],\n",
              "       [  1,  13],\n",
              "       [  1,  14],\n",
              "       [  1,  14],\n",
              "       [  1,  15],\n",
              "       [  1,  15],\n",
              "       [  0,  16],\n",
              "       [  1,  20],\n",
              "       [  1,  20],\n",
              "       [  0,  22],\n",
              "       [  1,  23],\n",
              "       [  1,  23],\n",
              "       [  1,  24],\n",
              "       [  1,  26],\n",
              "       [  1,  26],\n",
              "       [  1,  26],\n",
              "       [  1,  27],\n",
              "       [  1,  28],\n",
              "       [  1,  28],\n",
              "       [  0,  29],\n",
              "       [  1,  29],\n",
              "       [  1,  30],\n",
              "       [  1,  30],\n",
              "       [  1,  30],\n",
              "       [  0,  30],\n",
              "       [  1,  30],\n",
              "       [  1,  31],\n",
              "       [  1,  32],\n",
              "       [  1,  33],\n",
              "       [  0,  33],\n",
              "       [  1,  33],\n",
              "       [  1,  35],\n",
              "       [  1,  38],\n",
              "       [  1,  40],\n",
              "       [  1,  41],\n",
              "       [  1,  42],\n",
              "       [  1,  43],\n",
              "       [  1,  43],\n",
              "       [  1,  43],\n",
              "       [  1,  44],\n",
              "       [  1,  45],\n",
              "       [  1,  50],\n",
              "       [  0,  54],\n",
              "       [  0,  54],\n",
              "       [  1,  55],\n",
              "       [  1,  59],\n",
              "       [  1,  60],\n",
              "       [  1,  60],\n",
              "       [  0,  60],\n",
              "       [  1,  61],\n",
              "       [  0,  63],\n",
              "       [  1,  64],\n",
              "       [  1,  65],\n",
              "       [  1,  65],\n",
              "       [  1,  66],\n",
              "       [  1,  67],\n",
              "       [  0,  68],\n",
              "       [  0,  71],\n",
              "       [  1,  72],\n",
              "       [  0,  72],\n",
              "       [  1,  73],\n",
              "       [  1,  73],\n",
              "       [  0,  74],\n",
              "       [  0,  74],\n",
              "       [  0,  74],\n",
              "       [  0,  74],\n",
              "       [  0,  75],\n",
              "       [  0,  76],\n",
              "       [  1,  77],\n",
              "       [  0,  78],\n",
              "       [  1,  78],\n",
              "       [  0,  79],\n",
              "       [  0,  79],\n",
              "       [  0,  79],\n",
              "       [  0,  79],\n",
              "       [  0,  79],\n",
              "       [  0,  80],\n",
              "       [  0,  80],\n",
              "       [  0,  82],\n",
              "       [  1,  82],\n",
              "       [  0,  83],\n",
              "       [  0,  83],\n",
              "       [  0,  83],\n",
              "       [  0,  85],\n",
              "       [  0,  85],\n",
              "       [  0,  86],\n",
              "       [  0,  87],\n",
              "       [  0,  87],\n",
              "       [  0,  87],\n",
              "       [  0,  87],\n",
              "       [  0,  87],\n",
              "       [  1,  88],\n",
              "       [  0,  88],\n",
              "       [  0,  88],\n",
              "       [  0,  88],\n",
              "       [  0,  88],\n",
              "       [  1,  90],\n",
              "       [  0,  90],\n",
              "       [  0,  90],\n",
              "       [  1,  90],\n",
              "       [  0,  91],\n",
              "       [  0,  91],\n",
              "       [  0,  94],\n",
              "       [  0,  94],\n",
              "       [  0,  94],\n",
              "       [  1,  95],\n",
              "       [  0,  95],\n",
              "       [  0,  95],\n",
              "       [  0,  95],\n",
              "       [  0,  95],\n",
              "       [  1,  96],\n",
              "       [  0,  97],\n",
              "       [  1, 100],\n",
              "       [  0, 104],\n",
              "       [  0, 104],\n",
              "       [  0, 105],\n",
              "       [  0, 106],\n",
              "       [  0, 107],\n",
              "       [  0, 107],\n",
              "       [  0, 107],\n",
              "       [  0, 107],\n",
              "       [  0, 107],\n",
              "       [  0, 107],\n",
              "       [  0, 108],\n",
              "       [  0, 108],\n",
              "       [  0, 108],\n",
              "       [  1, 109],\n",
              "       [  0, 109],\n",
              "       [  0, 109],\n",
              "       [  0, 110],\n",
              "       [  1, 111],\n",
              "       [  0, 112],\n",
              "       [  0, 112],\n",
              "       [  0, 113],\n",
              "       [  1, 113],\n",
              "       [  0, 115],\n",
              "       [  1, 115],\n",
              "       [  0, 117],\n",
              "       [  0, 118],\n",
              "       [  0, 119],\n",
              "       [  0, 120],\n",
              "       [  0, 120],\n",
              "       [  0, 120],\n",
              "       [  0, 120],\n",
              "       [  0, 121],\n",
              "       [  0, 121],\n",
              "       [  0, 121],\n",
              "       [  0, 121],\n",
              "       [  0, 123],\n",
              "       [  1, 126],\n",
              "       [  1, 129],\n",
              "       [  1, 130],\n",
              "       [  0, 134],\n",
              "       [  1, 135],\n",
              "       [  0, 140],\n",
              "       [  0, 145],\n",
              "       [  0, 145],\n",
              "       [  0, 146],\n",
              "       [  0, 146],\n",
              "       [  0, 146],\n",
              "       [  0, 146],\n",
              "       [  0, 146],\n",
              "       [  0, 147],\n",
              "       [  0, 147],\n",
              "       [  0, 147],\n",
              "       [  0, 147],\n",
              "       [  0, 148],\n",
              "       [  1, 150],\n",
              "       [  1, 154],\n",
              "       [  1, 162],\n",
              "       [  1, 170],\n",
              "       [  1, 171],\n",
              "       [  1, 172],\n",
              "       [  1, 172],\n",
              "       [  0, 172],\n",
              "       [  0, 174],\n",
              "       [  0, 174],\n",
              "       [  0, 174],\n",
              "       [  0, 175],\n",
              "       [  0, 180],\n",
              "       [  1, 180],\n",
              "       [  1, 180],\n",
              "       [  0, 185],\n",
              "       [  0, 186],\n",
              "       [  0, 186],\n",
              "       [  0, 186],\n",
              "       [  0, 186],\n",
              "       [  0, 186],\n",
              "       [  0, 186],\n",
              "       [  0, 187],\n",
              "       [  0, 187],\n",
              "       [  0, 187],\n",
              "       [  0, 187],\n",
              "       [  0, 187],\n",
              "       [  0, 187],\n",
              "       [  0, 187],\n",
              "       [  0, 188],\n",
              "       [  0, 192],\n",
              "       [  0, 192],\n",
              "       [  1, 193],\n",
              "       [  0, 194],\n",
              "       [  0, 195],\n",
              "       [  0, 196],\n",
              "       [  1, 196],\n",
              "       [  0, 197],\n",
              "       [  0, 197],\n",
              "       [  1, 198],\n",
              "       [  0, 200],\n",
              "       [  0, 201],\n",
              "       [  0, 201],\n",
              "       [  0, 205],\n",
              "       [  0, 205],\n",
              "       [  0, 205],\n",
              "       [  0, 206],\n",
              "       [  0, 207],\n",
              "       [  0, 207],\n",
              "       [  1, 207],\n",
              "       [  0, 208],\n",
              "       [  0, 209],\n",
              "       [  0, 209],\n",
              "       [  0, 209],\n",
              "       [  0, 209],\n",
              "       [  0, 209],\n",
              "       [  0, 210],\n",
              "       [  0, 210],\n",
              "       [  0, 211],\n",
              "       [  0, 212],\n",
              "       [  0, 212],\n",
              "       [  0, 212],\n",
              "       [  0, 213],\n",
              "       [  0, 213],\n",
              "       [  0, 213],\n",
              "       [  1, 214],\n",
              "       [  0, 214],\n",
              "       [  0, 214],\n",
              "       [  0, 214],\n",
              "       [  0, 214],\n",
              "       [  0, 215],\n",
              "       [  0, 215],\n",
              "       [  0, 215],\n",
              "       [  0, 215],\n",
              "       [  0, 216],\n",
              "       [  0, 220],\n",
              "       [  0, 230],\n",
              "       [  0, 230],\n",
              "       [  0, 231],\n",
              "       [  0, 233],\n",
              "       [  0, 233],\n",
              "       [  1, 235],\n",
              "       [  0, 237],\n",
              "       [  0, 237],\n",
              "       [  0, 240],\n",
              "       [  1, 241],\n",
              "       [  0, 244],\n",
              "       [  0, 244],\n",
              "       [  0, 244],\n",
              "       [  0, 244],\n",
              "       [  0, 244],\n",
              "       [  0, 245],\n",
              "       [  0, 245],\n",
              "       [  0, 245],\n",
              "       [  0, 245],\n",
              "       [  0, 245],\n",
              "       [  0, 246],\n",
              "       [  0, 246],\n",
              "       [  0, 246],\n",
              "       [  0, 247],\n",
              "       [  0, 250],\n",
              "       [  0, 250],\n",
              "       [  0, 250],\n",
              "       [  0, 250],\n",
              "       [  0, 250],\n",
              "       [  0, 250],\n",
              "       [  0, 250],\n",
              "       [  0, 256],\n",
              "       [  0, 256],\n",
              "       [  0, 257],\n",
              "       [  0, 258],\n",
              "       [  0, 258],\n",
              "       [  0, 270],\n",
              "       [  0, 270],\n",
              "       [  0, 271],\n",
              "       [  0, 278],\n",
              "       [  0, 280],\n",
              "       [  0, 285]])"
            ]
          },
          "metadata": {},
          "execution_count": 14
        }
      ]
    },
    {
      "cell_type": "code",
      "metadata": {
        "colab": {
          "base_uri": "https://localhost:8080/"
        },
        "id": "U4udmRGqiq_y",
        "outputId": "100fbc60-7724-4e40-c07a-687a7403ac7c"
      },
      "source": [
        " yy.DEATH_EVENT >0"
      ],
      "execution_count": 15,
      "outputs": [
        {
          "output_type": "execute_result",
          "data": {
            "text/plain": [
              "0       True\n",
              "1       True\n",
              "2       True\n",
              "3       True\n",
              "4       True\n",
              "       ...  \n",
              "294    False\n",
              "295    False\n",
              "296    False\n",
              "297    False\n",
              "298    False\n",
              "Name: DEATH_EVENT, Length: 299, dtype: bool"
            ]
          },
          "metadata": {},
          "execution_count": 15
        }
      ]
    },
    {
      "cell_type": "code",
      "metadata": {
        "colab": {
          "base_uri": "https://localhost:8080/",
          "height": 417
        },
        "id": "dOSCqwHWjf_0",
        "outputId": "0ab49860-2c97-4144-d056-849e9eab424c"
      },
      "source": [
        "yyy =pd.concat([yy.DEATH_EVENT>0,yy.time],axis=1)\n",
        "yyy"
      ],
      "execution_count": 16,
      "outputs": [
        {
          "output_type": "execute_result",
          "data": {
            "text/html": [
              "<div>\n",
              "<style scoped>\n",
              "    .dataframe tbody tr th:only-of-type {\n",
              "        vertical-align: middle;\n",
              "    }\n",
              "\n",
              "    .dataframe tbody tr th {\n",
              "        vertical-align: top;\n",
              "    }\n",
              "\n",
              "    .dataframe thead th {\n",
              "        text-align: right;\n",
              "    }\n",
              "</style>\n",
              "<table border=\"1\" class=\"dataframe\">\n",
              "  <thead>\n",
              "    <tr style=\"text-align: right;\">\n",
              "      <th></th>\n",
              "      <th>DEATH_EVENT</th>\n",
              "      <th>time</th>\n",
              "    </tr>\n",
              "  </thead>\n",
              "  <tbody>\n",
              "    <tr>\n",
              "      <th>0</th>\n",
              "      <td>True</td>\n",
              "      <td>4</td>\n",
              "    </tr>\n",
              "    <tr>\n",
              "      <th>1</th>\n",
              "      <td>True</td>\n",
              "      <td>6</td>\n",
              "    </tr>\n",
              "    <tr>\n",
              "      <th>2</th>\n",
              "      <td>True</td>\n",
              "      <td>7</td>\n",
              "    </tr>\n",
              "    <tr>\n",
              "      <th>3</th>\n",
              "      <td>True</td>\n",
              "      <td>7</td>\n",
              "    </tr>\n",
              "    <tr>\n",
              "      <th>4</th>\n",
              "      <td>True</td>\n",
              "      <td>8</td>\n",
              "    </tr>\n",
              "    <tr>\n",
              "      <th>...</th>\n",
              "      <td>...</td>\n",
              "      <td>...</td>\n",
              "    </tr>\n",
              "    <tr>\n",
              "      <th>294</th>\n",
              "      <td>False</td>\n",
              "      <td>270</td>\n",
              "    </tr>\n",
              "    <tr>\n",
              "      <th>295</th>\n",
              "      <td>False</td>\n",
              "      <td>271</td>\n",
              "    </tr>\n",
              "    <tr>\n",
              "      <th>296</th>\n",
              "      <td>False</td>\n",
              "      <td>278</td>\n",
              "    </tr>\n",
              "    <tr>\n",
              "      <th>297</th>\n",
              "      <td>False</td>\n",
              "      <td>280</td>\n",
              "    </tr>\n",
              "    <tr>\n",
              "      <th>298</th>\n",
              "      <td>False</td>\n",
              "      <td>285</td>\n",
              "    </tr>\n",
              "  </tbody>\n",
              "</table>\n",
              "<p>299 rows × 2 columns</p>\n",
              "</div>"
            ],
            "text/plain": [
              "     DEATH_EVENT  time\n",
              "0           True     4\n",
              "1           True     6\n",
              "2           True     7\n",
              "3           True     7\n",
              "4           True     8\n",
              "..           ...   ...\n",
              "294        False   270\n",
              "295        False   271\n",
              "296        False   278\n",
              "297        False   280\n",
              "298        False   285\n",
              "\n",
              "[299 rows x 2 columns]"
            ]
          },
          "metadata": {},
          "execution_count": 16
        }
      ]
    },
    {
      "cell_type": "code",
      "metadata": {
        "id": "QW2jFwCpjz7U"
      },
      "source": [
        "list(map(tuple,yyy.to_numpy()))"
      ],
      "execution_count": null,
      "outputs": []
    },
    {
      "cell_type": "code",
      "metadata": {
        "id": "mhNXpl7LkfMJ"
      },
      "source": [
        "y4=list(map(tuple,yyy.to_numpy()))"
      ],
      "execution_count": null,
      "outputs": []
    },
    {
      "cell_type": "code",
      "metadata": {
        "id": "1OQczETrkofN"
      },
      "source": [
        "y4"
      ],
      "execution_count": null,
      "outputs": []
    },
    {
      "cell_type": "code",
      "metadata": {
        "id": "cfdkE2gglBm1"
      },
      "source": [
        "from sksurv.util import Surv\n"
      ],
      "execution_count": 17,
      "outputs": []
    },
    {
      "cell_type": "code",
      "metadata": {
        "id": "IwsKj_saqf9v"
      },
      "source": [
        "z= Surv.from_dataframe(event= 'DEATH_EVENT',time= 'time', data=yyy)"
      ],
      "execution_count": 18,
      "outputs": []
    },
    {
      "cell_type": "code",
      "metadata": {
        "colab": {
          "base_uri": "https://localhost:8080/"
        },
        "id": "87FdMP_FrP8h",
        "outputId": "5e2c9f0a-4012-4ffd-f45c-3eef98474441"
      },
      "source": [
        "rsf.fit(x.to_numpy(),z)"
      ],
      "execution_count": 19,
      "outputs": [
        {
          "output_type": "execute_result",
          "data": {
            "text/plain": [
              "RandomSurvivalForest(bootstrap=True, max_depth=None, max_features='sqrt',\n",
              "                     max_leaf_nodes=None, max_samples=None, min_samples_leaf=15,\n",
              "                     min_samples_split=10, min_weight_fraction_leaf=0.0,\n",
              "                     n_estimators=1000, n_jobs=-1, oob_score=False,\n",
              "                     random_state=20, verbose=0, warm_start=False)"
            ]
          },
          "metadata": {},
          "execution_count": 19
        }
      ]
    },
    {
      "cell_type": "code",
      "metadata": {
        "colab": {
          "base_uri": "https://localhost:8080/"
        },
        "id": "HkRXyt5nrVT0",
        "outputId": "b2c1c974-88e8-4255-e19c-1df5273dcf5b"
      },
      "source": [
        "rsf.score(x.to_numpy(),z)"
      ],
      "execution_count": 20,
      "outputs": [
        {
          "output_type": "execute_result",
          "data": {
            "text/plain": [
              "0.8052434456928839"
            ]
          },
          "metadata": {},
          "execution_count": 20
        }
      ]
    },
    {
      "cell_type": "code",
      "metadata": {
        "colab": {
          "base_uri": "https://localhost:8080/"
        },
        "id": "T25nz0OBqhuw",
        "outputId": "6695a8a1-e4d9-4b94-c722-da127f3996db"
      },
      "source": [
        "rsf.n_features_"
      ],
      "execution_count": 23,
      "outputs": [
        {
          "output_type": "execute_result",
          "data": {
            "text/plain": [
              "11"
            ]
          },
          "metadata": {},
          "execution_count": 23
        }
      ]
    },
    {
      "cell_type": "code",
      "metadata": {
        "colab": {
          "base_uri": "https://localhost:8080/"
        },
        "id": "-K1riINMrdTt",
        "outputId": "454b0d31-a6e2-479a-b270-bc200fc8f0ea"
      },
      "source": [
        "estimator = CoxPHSurvivalAnalysis()\n",
        "estimator.fit(x.to_numpy(),z)"
      ],
      "execution_count": 42,
      "outputs": [
        {
          "output_type": "execute_result",
          "data": {
            "text/plain": [
              "CoxPHSurvivalAnalysis(alpha=0, n_iter=100, ties='breslow', tol=1e-09, verbose=0)"
            ]
          },
          "metadata": {},
          "execution_count": 42
        }
      ]
    },
    {
      "cell_type": "code",
      "metadata": {
        "colab": {
          "base_uri": "https://localhost:8080/"
        },
        "id": "1zY207nJrdWs",
        "outputId": "afb0bfc8-8d46-46a7-f32e-318a593b21ff"
      },
      "source": [
        "estimator.score(x.to_numpy(),z)"
      ],
      "execution_count": 43,
      "outputs": [
        {
          "output_type": "execute_result",
          "data": {
            "text/plain": [
              "0.7405166618649764"
            ]
          },
          "metadata": {},
          "execution_count": 43
        }
      ]
    },
    {
      "cell_type": "code",
      "metadata": {
        "id": "6BFhyEGUuK64"
      },
      "source": [
        "coe=pd.Series(estimator.coef_, index=x.columns)"
      ],
      "execution_count": 44,
      "outputs": []
    },
    {
      "cell_type": "code",
      "metadata": {
        "colab": {
          "base_uri": "https://localhost:8080/"
        },
        "id": "kFFc8qGzvItQ",
        "outputId": "9971df38-add5-4e9b-83c6-e4a160ef5882"
      },
      "source": [
        "coe"
      ],
      "execution_count": 45,
      "outputs": [
        {
          "output_type": "execute_result",
          "data": {
            "text/plain": [
              "Age                    4.618607e-02\n",
              "anaemia                4.552595e-01\n",
              "CPK                    2.209425e-04\n",
              "diabetes               1.372955e-01\n",
              "Ejection Fraction     -4.883798e-02\n",
              "high_blood_pressure    4.719002e-01\n",
              "Platelets             -5.159760e-07\n",
              "Serum Creatinine       3.115404e-01\n",
              "serum_sodium          -4.441268e-02\n",
              "sex                   -2.398795e-01\n",
              "smoking                1.185694e-01\n",
              "dtype: float64"
            ]
          },
          "metadata": {},
          "execution_count": 45
        }
      ]
    },
    {
      "cell_type": "code",
      "metadata": {
        "colab": {
          "base_uri": "https://localhost:8080/"
        },
        "id": "bMQnxa8EvIw0",
        "outputId": "cd29c555-95a2-4d1d-a610-76073ca52d95"
      },
      "source": [
        "np.exp(coe.values)"
      ],
      "execution_count": null,
      "outputs": [
        {
          "output_type": "execute_result",
          "data": {
            "text/plain": [
              "array([1.04726925, 1.5765824 , 1.00022097, 1.14716706, 0.95233542,\n",
              "       1.6030374 , 0.99999948, 1.3655269 , 0.95655912, 0.78672262,\n",
              "       1.12588499])"
            ]
          },
          "metadata": {},
          "execution_count": 87
        }
      ]
    },
    {
      "cell_type": "code",
      "metadata": {
        "colab": {
          "base_uri": "https://localhost:8080/"
        },
        "id": "FeSGle1IvIzp",
        "outputId": "ac42bd15-6496-415a-f36e-2fa41a9bbe2f"
      },
      "source": [
        "estimator.cum_baseline_hazard_"
      ],
      "execution_count": null,
      "outputs": [
        {
          "output_type": "execute_result",
          "data": {
            "text/plain": [
              "StepFunction(x=array([  4.,   6.,   7.,   8.,  10.,  11.,  12.,  13.,  14.,  15.,  16.,\n",
              "        20.,  22.,  23.,  24.,  26.,  27.,  28.,  29.,  30.,  31.,  32.,\n",
              "        33.,  35.,  38.,  40.,  41.,  42.,  43.,  44.,  45.,  50.,  54.,\n",
              "        55.,  59.,  60.,  61.,  63.,  64.,  65.,  66.,  67.,  68.,  71.,\n",
              "        72.,  73.,  74.,  75.,  76.,  77.,  78.,  79.,  80.,  82.,  83.,\n",
              "        85.,  86.,  87.,  88.,  90.,  91.,  94.,  95.,  96.,  97., 100.,\n",
              "       104., 105., 106., 107., 108., 109., 110., 111., 112., 113., 115.,\n",
              "       117., 118., 119., 120., 121., 123., 126., 129., 130., 134., 135.,\n",
              "       140., 145., 146., 147., 148., 150., 154., 162., 170., 171., 172.,\n",
              "       174., 175., 180., 185., 186., 187., 188., 192., 193., 194., 195.,\n",
              "       196., 197., 198., 200., 201., 205., 206., 207., 208., 209., 210.,\n",
              "       211., 212., 213., 214., 215., 216., 220., 230., 231., 233., 235.,\n",
              "       237., 240., 241., 244., 245., 246., 247., 250., 256., 257., 258.,\n",
              "       270., 271., 278., 280., 285.]), y=array([ 0.15115816,  0.30427272,  0.61172296,  0.92150042,  1.8901228 ,\n",
              "        2.26665198,  2.26665198,  2.45602836,  2.83607985,  3.21909921,\n",
              "        3.21909921,  3.6097548 ,  3.6097548 ,  4.00586434,  4.20712633,\n",
              "        4.82072536,  5.02934154,  5.45359953,  5.66794454,  6.52868186,\n",
              "        6.74941578,  6.97320936,  7.42238772,  7.64849233,  7.874954  ,\n",
              "        8.10239594,  8.33033711,  8.57738739,  9.3206639 ,  9.574386  ,\n",
              "        9.82935366, 10.086066  , 10.086066  , 10.35252365, 10.62022312,\n",
              "       11.1640496 , 11.4406444 , 11.4406444 , 11.71745646, 12.27799953,\n",
              "       12.56210789, 12.84768603, 12.84768603, 12.84768603, 13.13560123,\n",
              "       13.72991821, 13.72991821, 13.72991821, 13.72991821, 14.03835477,\n",
              "       14.3514801 , 14.3514801 , 14.3514801 , 14.67592047, 14.67592047,\n",
              "       14.67592047, 14.67592047, 14.67592047, 15.02530408, 15.74356827,\n",
              "       15.74356827, 15.74356827, 16.1164467 , 16.5041408 , 16.5041408 ,\n",
              "       16.89463641, 16.89463641, 16.89463641, 16.89463641, 16.89463641,\n",
              "       16.89463641, 17.33528807, 17.33528807, 17.78539382, 17.78539382,\n",
              "       18.25184086, 18.72847541, 18.72847541, 18.72847541, 18.72847541,\n",
              "       18.72847541, 18.72847541, 18.72847541, 19.2532796 , 19.78163874,\n",
              "       20.31197714, 20.31197714, 20.85621059, 20.85621059, 20.85621059,\n",
              "       20.85621059, 20.85621059, 20.85621059, 21.4481257 , 22.04775815,\n",
              "       22.65462072, 23.27369944, 23.89987929, 25.16589899, 25.16589899,\n",
              "       25.16589899, 26.51006919, 26.51006919, 26.51006919, 26.51006919,\n",
              "       26.51006919, 26.51006919, 27.38727425, 27.38727425, 27.38727425,\n",
              "       28.32764576, 28.32764576, 29.34618503, 29.34618503, 29.34618503,\n",
              "       29.34618503, 29.34618503, 30.5081226 , 30.5081226 , 30.5081226 ,\n",
              "       30.5081226 , 30.5081226 , 30.5081226 , 30.5081226 , 32.34126955,\n",
              "       32.34126955, 32.34126955, 32.34126955, 32.34126955, 32.34126955,\n",
              "       32.34126955, 34.96505618, 34.96505618, 34.96505618, 38.07017839,\n",
              "       38.07017839, 38.07017839, 38.07017839, 38.07017839, 38.07017839,\n",
              "       38.07017839, 38.07017839, 38.07017839, 38.07017839, 38.07017839,\n",
              "       38.07017839, 38.07017839, 38.07017839]), a=1.0, b=0.0)"
            ]
          },
          "metadata": {},
          "execution_count": 88
        }
      ]
    },
    {
      "cell_type": "code",
      "metadata": {
        "colab": {
          "base_uri": "https://localhost:8080/"
        },
        "id": "rrgxDXUer3cy",
        "outputId": "80bfc79b-8be2-449d-bad5-f9049b512458"
      },
      "source": [
        "pip install eli5"
      ],
      "execution_count": null,
      "outputs": [
        {
          "output_type": "stream",
          "text": [
            "Collecting eli5\n",
            "  Downloading eli5-0.11.0-py2.py3-none-any.whl (106 kB)\n",
            "\u001b[?25l\r\u001b[K     |███                             | 10 kB 33.4 MB/s eta 0:00:01\r\u001b[K     |██████▏                         | 20 kB 27.7 MB/s eta 0:00:01\r\u001b[K     |█████████▎                      | 30 kB 19.3 MB/s eta 0:00:01\r\u001b[K     |████████████▍                   | 40 kB 15.8 MB/s eta 0:00:01\r\u001b[K     |███████████████▌                | 51 kB 7.7 MB/s eta 0:00:01\r\u001b[K     |██████████████████▌             | 61 kB 7.7 MB/s eta 0:00:01\r\u001b[K     |█████████████████████▋          | 71 kB 8.1 MB/s eta 0:00:01\r\u001b[K     |████████████████████████▊       | 81 kB 9.0 MB/s eta 0:00:01\r\u001b[K     |███████████████████████████▉    | 92 kB 9.4 MB/s eta 0:00:01\r\u001b[K     |███████████████████████████████ | 102 kB 7.5 MB/s eta 0:00:01\r\u001b[K     |████████████████████████████████| 106 kB 7.5 MB/s \n",
            "\u001b[?25hRequirement already satisfied: graphviz in /usr/local/lib/python3.7/dist-packages (from eli5) (0.10.1)\n",
            "Requirement already satisfied: numpy>=1.9.0 in /usr/local/lib/python3.7/dist-packages (from eli5) (1.19.5)\n",
            "Requirement already satisfied: scipy in /usr/local/lib/python3.7/dist-packages (from eli5) (1.4.1)\n",
            "Requirement already satisfied: scikit-learn>=0.20 in /usr/local/lib/python3.7/dist-packages (from eli5) (0.22.2.post1)\n",
            "Requirement already satisfied: attrs>16.0.0 in /usr/local/lib/python3.7/dist-packages (from eli5) (21.2.0)\n",
            "Requirement already satisfied: jinja2 in /usr/local/lib/python3.7/dist-packages (from eli5) (2.11.3)\n",
            "Requirement already satisfied: tabulate>=0.7.7 in /usr/local/lib/python3.7/dist-packages (from eli5) (0.8.9)\n",
            "Requirement already satisfied: six in /usr/local/lib/python3.7/dist-packages (from eli5) (1.15.0)\n",
            "Requirement already satisfied: joblib>=0.11 in /usr/local/lib/python3.7/dist-packages (from scikit-learn>=0.20->eli5) (1.0.1)\n",
            "Requirement already satisfied: MarkupSafe>=0.23 in /usr/local/lib/python3.7/dist-packages (from jinja2->eli5) (2.0.1)\n",
            "Installing collected packages: eli5\n",
            "Successfully installed eli5-0.11.0\n"
          ],
          "name": "stdout"
        }
      ]
    },
    {
      "cell_type": "code",
      "metadata": {
        "colab": {
          "base_uri": "https://localhost:8080/",
          "height": 218
        },
        "id": "Mr55HNHVrdZS",
        "outputId": "8ba43b0e-dbf9-405b-bd92-9056ce7be0d8"
      },
      "source": [
        "import eli5\n",
        "from eli5.sklearn import PermutationImportance\n",
        "\n",
        "perm = PermutationImportance(rsf, n_iter=15, random_state=random_state)\n",
        "perm.fit(x.to_numpy(),z)\n",
        "eli5.show_weights(perm, feature_names=x.columns.tolist())"
      ],
      "execution_count": null,
      "outputs": [
        {
          "output_type": "execute_result",
          "data": {
            "text/html": [
              "\n",
              "    <style>\n",
              "    table.eli5-weights tr:hover {\n",
              "        filter: brightness(85%);\n",
              "    }\n",
              "</style>\n",
              "\n",
              "\n",
              "\n",
              "    \n",
              "\n",
              "    \n",
              "\n",
              "    \n",
              "\n",
              "    \n",
              "\n",
              "    \n",
              "\n",
              "    \n",
              "\n",
              "\n",
              "    \n",
              "\n",
              "    \n",
              "\n",
              "    \n",
              "\n",
              "    \n",
              "\n",
              "    \n",
              "\n",
              "    \n",
              "\n",
              "\n",
              "    \n",
              "\n",
              "    \n",
              "\n",
              "    \n",
              "\n",
              "    \n",
              "\n",
              "    \n",
              "        <table class=\"eli5-weights eli5-feature-importances\" style=\"border-collapse: collapse; border: none; margin-top: 0em; table-layout: auto;\">\n",
              "    <thead>\n",
              "    <tr style=\"border: none;\">\n",
              "        <th style=\"padding: 0 1em 0 0.5em; text-align: right; border: none;\">Weight</th>\n",
              "        <th style=\"padding: 0 0.5em 0 0.5em; text-align: left; border: none;\">Feature</th>\n",
              "    </tr>\n",
              "    </thead>\n",
              "    <tbody>\n",
              "    \n",
              "        <tr style=\"background-color: hsl(120, 100.00%, 80.00%); border: none;\">\n",
              "            <td style=\"padding: 0 1em 0 0.5em; text-align: right; border: none;\">\n",
              "                0.0958\n",
              "                \n",
              "                    &plusmn; 0.0298\n",
              "                \n",
              "            </td>\n",
              "            <td style=\"padding: 0 0.5em 0 0.5em; text-align: left; border: none;\">\n",
              "                Serum Creatinine\n",
              "            </td>\n",
              "        </tr>\n",
              "    \n",
              "        <tr style=\"background-color: hsl(120, 100.00%, 82.75%); border: none;\">\n",
              "            <td style=\"padding: 0 1em 0 0.5em; text-align: right; border: none;\">\n",
              "                0.0776\n",
              "                \n",
              "                    &plusmn; 0.0258\n",
              "                \n",
              "            </td>\n",
              "            <td style=\"padding: 0 0.5em 0 0.5em; text-align: left; border: none;\">\n",
              "                Ejection Fraction\n",
              "            </td>\n",
              "        </tr>\n",
              "    \n",
              "        <tr style=\"background-color: hsl(120, 100.00%, 86.80%); border: none;\">\n",
              "            <td style=\"padding: 0 1em 0 0.5em; text-align: right; border: none;\">\n",
              "                0.0529\n",
              "                \n",
              "                    &plusmn; 0.0175\n",
              "                \n",
              "            </td>\n",
              "            <td style=\"padding: 0 0.5em 0 0.5em; text-align: left; border: none;\">\n",
              "                Age\n",
              "            </td>\n",
              "        </tr>\n",
              "    \n",
              "        <tr style=\"background-color: hsl(120, 100.00%, 95.59%); border: none;\">\n",
              "            <td style=\"padding: 0 1em 0 0.5em; text-align: right; border: none;\">\n",
              "                0.0111\n",
              "                \n",
              "                    &plusmn; 0.0033\n",
              "                \n",
              "            </td>\n",
              "            <td style=\"padding: 0 0.5em 0 0.5em; text-align: left; border: none;\">\n",
              "                Platelets\n",
              "            </td>\n",
              "        </tr>\n",
              "    \n",
              "        <tr style=\"background-color: hsl(120, 100.00%, 95.87%); border: none;\">\n",
              "            <td style=\"padding: 0 1em 0 0.5em; text-align: right; border: none;\">\n",
              "                0.0101\n",
              "                \n",
              "                    &plusmn; 0.0034\n",
              "                \n",
              "            </td>\n",
              "            <td style=\"padding: 0 0.5em 0 0.5em; text-align: left; border: none;\">\n",
              "                CPK\n",
              "            </td>\n",
              "        </tr>\n",
              "    \n",
              "        <tr style=\"background-color: hsl(120, 100.00%, 96.42%); border: none;\">\n",
              "            <td style=\"padding: 0 1em 0 0.5em; text-align: right; border: none;\">\n",
              "                0.0082\n",
              "                \n",
              "                    &plusmn; 0.0063\n",
              "                \n",
              "            </td>\n",
              "            <td style=\"padding: 0 0.5em 0 0.5em; text-align: left; border: none;\">\n",
              "                high_blood_pressure\n",
              "            </td>\n",
              "        </tr>\n",
              "    \n",
              "        <tr style=\"background-color: hsl(120, 100.00%, 97.11%); border: none;\">\n",
              "            <td style=\"padding: 0 1em 0 0.5em; text-align: right; border: none;\">\n",
              "                0.0060\n",
              "                \n",
              "                    &plusmn; 0.0068\n",
              "                \n",
              "            </td>\n",
              "            <td style=\"padding: 0 0.5em 0 0.5em; text-align: left; border: none;\">\n",
              "                serum_sodium\n",
              "            </td>\n",
              "        </tr>\n",
              "    \n",
              "        <tr style=\"background-color: hsl(120, 100.00%, 97.60%); border: none;\">\n",
              "            <td style=\"padding: 0 1em 0 0.5em; text-align: right; border: none;\">\n",
              "                0.0046\n",
              "                \n",
              "                    &plusmn; 0.0040\n",
              "                \n",
              "            </td>\n",
              "            <td style=\"padding: 0 0.5em 0 0.5em; text-align: left; border: none;\">\n",
              "                anaemia\n",
              "            </td>\n",
              "        </tr>\n",
              "    \n",
              "        <tr style=\"background-color: hsl(120, 100.00%, 98.48%); border: none;\">\n",
              "            <td style=\"padding: 0 1em 0 0.5em; text-align: right; border: none;\">\n",
              "                0.0024\n",
              "                \n",
              "                    &plusmn; 0.0011\n",
              "                \n",
              "            </td>\n",
              "            <td style=\"padding: 0 0.5em 0 0.5em; text-align: left; border: none;\">\n",
              "                diabetes\n",
              "            </td>\n",
              "        </tr>\n",
              "    \n",
              "        <tr style=\"background-color: hsl(120, 100.00%, 98.48%); border: none;\">\n",
              "            <td style=\"padding: 0 1em 0 0.5em; text-align: right; border: none;\">\n",
              "                0.0024\n",
              "                \n",
              "                    &plusmn; 0.0013\n",
              "                \n",
              "            </td>\n",
              "            <td style=\"padding: 0 0.5em 0 0.5em; text-align: left; border: none;\">\n",
              "                smoking\n",
              "            </td>\n",
              "        </tr>\n",
              "    \n",
              "        <tr style=\"background-color: hsl(120, 100.00%, 98.99%); border: none;\">\n",
              "            <td style=\"padding: 0 1em 0 0.5em; text-align: right; border: none;\">\n",
              "                0.0014\n",
              "                \n",
              "                    &plusmn; 0.0009\n",
              "                \n",
              "            </td>\n",
              "            <td style=\"padding: 0 0.5em 0 0.5em; text-align: left; border: none;\">\n",
              "                sex\n",
              "            </td>\n",
              "        </tr>\n",
              "    \n",
              "    \n",
              "    </tbody>\n",
              "</table>\n",
              "    \n",
              "\n",
              "    \n",
              "\n",
              "\n",
              "    \n",
              "\n",
              "    \n",
              "\n",
              "    \n",
              "\n",
              "    \n",
              "\n",
              "    \n",
              "\n",
              "    \n",
              "\n",
              "\n",
              "\n"
            ],
            "text/plain": [
              "<IPython.core.display.HTML object>"
            ]
          },
          "metadata": {},
          "execution_count": 79
        }
      ]
    },
    {
      "cell_type": "code",
      "metadata": {
        "colab": {
          "base_uri": "https://localhost:8080/"
        },
        "id": "5EHLy6Hcs3Ni",
        "outputId": "8c8b9496-db23-475b-fc28-4c8143ac5f1c"
      },
      "source": [
        "x.columns.tolist()"
      ],
      "execution_count": null,
      "outputs": [
        {
          "output_type": "execute_result",
          "data": {
            "text/plain": [
              "['Age',\n",
              " 'anaemia',\n",
              " 'CPK',\n",
              " 'diabetes',\n",
              " 'Ejection Fraction',\n",
              " 'high_blood_pressure',\n",
              " 'Platelets',\n",
              " 'Serum Creatinine',\n",
              " 'serum_sodium',\n",
              " 'sex',\n",
              " 'smoking']"
            ]
          },
          "metadata": {},
          "execution_count": 78
        }
      ]
    },
    {
      "cell_type": "code",
      "metadata": {
        "colab": {
          "base_uri": "https://localhost:8080/"
        },
        "id": "y2sty7zFsIry",
        "outputId": "cd260909-31e3-420a-f412-675f1efac081"
      },
      "source": [
        "pip install lifelines"
      ],
      "execution_count": 47,
      "outputs": [
        {
          "output_type": "stream",
          "text": [
            "Collecting lifelines\n",
            "  Downloading lifelines-0.26.0-py3-none-any.whl (348 kB)\n",
            "\u001b[K     |████████████████████████████████| 348 kB 5.2 MB/s \n",
            "\u001b[?25hCollecting formulaic<0.3,>=0.2.2\n",
            "  Downloading formulaic-0.2.4-py3-none-any.whl (55 kB)\n",
            "\u001b[K     |████████████████████████████████| 55 kB 3.3 MB/s \n",
            "\u001b[?25hCollecting autograd-gamma>=0.3\n",
            "  Downloading autograd-gamma-0.5.0.tar.gz (4.0 kB)\n",
            "Requirement already satisfied: pandas>=0.23.0 in /usr/local/lib/python3.7/dist-packages (from lifelines) (1.1.5)\n",
            "Requirement already satisfied: numpy>=1.14.0 in /usr/local/lib/python3.7/dist-packages (from lifelines) (1.19.5)\n",
            "Requirement already satisfied: matplotlib>=3.0 in /usr/local/lib/python3.7/dist-packages (from lifelines) (3.2.2)\n",
            "Requirement already satisfied: autograd>=1.3 in /usr/local/lib/python3.7/dist-packages (from lifelines) (1.3)\n",
            "Requirement already satisfied: scipy>=1.2.0 in /usr/local/lib/python3.7/dist-packages (from lifelines) (1.4.1)\n",
            "Requirement already satisfied: future>=0.15.2 in /usr/local/lib/python3.7/dist-packages (from autograd>=1.3->lifelines) (0.16.0)\n",
            "Requirement already satisfied: wrapt in /usr/local/lib/python3.7/dist-packages (from formulaic<0.3,>=0.2.2->lifelines) (1.12.1)\n",
            "Requirement already satisfied: astor in /usr/local/lib/python3.7/dist-packages (from formulaic<0.3,>=0.2.2->lifelines) (0.8.1)\n",
            "Collecting interface-meta>=1.2\n",
            "  Downloading interface_meta-1.2.3-py2.py3-none-any.whl (14 kB)\n",
            "Requirement already satisfied: cycler>=0.10 in /usr/local/lib/python3.7/dist-packages (from matplotlib>=3.0->lifelines) (0.10.0)\n",
            "Requirement already satisfied: python-dateutil>=2.1 in /usr/local/lib/python3.7/dist-packages (from matplotlib>=3.0->lifelines) (2.8.2)\n",
            "Requirement already satisfied: kiwisolver>=1.0.1 in /usr/local/lib/python3.7/dist-packages (from matplotlib>=3.0->lifelines) (1.3.1)\n",
            "Requirement already satisfied: pyparsing!=2.0.4,!=2.1.2,!=2.1.6,>=2.0.1 in /usr/local/lib/python3.7/dist-packages (from matplotlib>=3.0->lifelines) (2.4.7)\n",
            "Requirement already satisfied: six in /usr/local/lib/python3.7/dist-packages (from cycler>=0.10->matplotlib>=3.0->lifelines) (1.15.0)\n",
            "Requirement already satisfied: pytz>=2017.2 in /usr/local/lib/python3.7/dist-packages (from pandas>=0.23.0->lifelines) (2018.9)\n",
            "Building wheels for collected packages: autograd-gamma\n",
            "  Building wheel for autograd-gamma (setup.py) ... \u001b[?25l\u001b[?25hdone\n",
            "  Created wheel for autograd-gamma: filename=autograd_gamma-0.5.0-py3-none-any.whl size=4049 sha256=08c0a25564212f5ec19ddeb25f98266913a81dafd268a4eac90dde64cd3f2c13\n",
            "  Stored in directory: /root/.cache/pip/wheels/9f/01/ee/1331593abb5725ff7d8c1333aee93a50a1c29d6ddda9665c9f\n",
            "Successfully built autograd-gamma\n",
            "Installing collected packages: interface-meta, formulaic, autograd-gamma, lifelines\n",
            "Successfully installed autograd-gamma-0.5.0 formulaic-0.2.4 interface-meta-1.2.3 lifelines-0.26.0\n"
          ],
          "name": "stdout"
        }
      ]
    },
    {
      "cell_type": "code",
      "metadata": {
        "id": "VkphuKd8r-Pv"
      },
      "source": [
        "from lifelines import CoxPHFitter"
      ],
      "execution_count": 49,
      "outputs": []
    },
    {
      "cell_type": "code",
      "metadata": {
        "colab": {
          "base_uri": "https://localhost:8080/"
        },
        "id": "G5WO6UpZr-ZJ",
        "outputId": "482bdf2e-1af2-4570-d403-147cb4e08d48"
      },
      "source": [
        "cox=CoxPHFitter()\n",
        "cox.fit(df, duration_col='time',event_col='DEATH_EVENT')"
      ],
      "execution_count": 50,
      "outputs": [
        {
          "output_type": "execute_result",
          "data": {
            "text/plain": [
              "<lifelines.CoxPHFitter: fitted with 299 total observations, 203 right-censored observations>"
            ]
          },
          "metadata": {},
          "execution_count": 50
        }
      ]
    },
    {
      "cell_type": "code",
      "metadata": {
        "colab": {
          "base_uri": "https://localhost:8080/"
        },
        "id": "O7NwO8YjtGx4",
        "outputId": "3ca4fd5f-ad3a-43ba-8847-ac5ae5d3a278"
      },
      "source": [
        "cox.score(df)"
      ],
      "execution_count": 54,
      "outputs": [
        {
          "output_type": "execute_result",
          "data": {
            "text/plain": [
              "-1.5659794900468385"
            ]
          },
          "metadata": {},
          "execution_count": 54
        }
      ]
    },
    {
      "cell_type": "code",
      "metadata": {
        "colab": {
          "base_uri": "https://localhost:8080/",
          "height": 774
        },
        "id": "YkluPeLDtqb6",
        "outputId": "33792909-ef30-4307-e5fe-96e967051d14"
      },
      "source": [
        "cox.print_summary()"
      ],
      "execution_count": 57,
      "outputs": [
        {
          "output_type": "display_data",
          "data": {
            "text/latex": "\\begin{tabular}{lrrrrrrrrrr}\n\\toprule\n{} &  coef &  exp(coef) &  se(coef) &  coef lower 95\\% &  coef upper 95\\% &  exp(coef) lower 95\\% &  exp(coef) upper 95\\% &     z &    p &  -log2(p) \\\\\ncovariate           &       &            &           &                 &                 &                      &                      &       &      &           \\\\\n\\midrule\nAge                 &  0.05 &       1.05 &      0.01 &            0.03 &            0.06 &                 1.03 &                 1.07 &  4.98 & 0.00 &     20.56 \\\\\nanaemia             &  0.46 &       1.58 &      0.22 &            0.04 &            0.89 &                 1.04 &                 2.42 &  2.12 & 0.03 &      4.89 \\\\\nCPK                 &  0.00 &       1.00 &      0.00 &            0.00 &            0.00 &                 1.00 &                 1.00 &  2.23 & 0.03 &      5.26 \\\\\ndiabetes            &  0.14 &       1.15 &      0.22 &           -0.30 &            0.58 &                 0.74 &                 1.78 &  0.63 & 0.53 &      0.91 \\\\\nEjection Fraction   & -0.05 &       0.95 &      0.01 &           -0.07 &           -0.03 &                 0.93 &                 0.97 & -4.67 & 0.00 &     18.35 \\\\\nhigh\\_blood\\_pressure &  0.48 &       1.61 &      0.22 &            0.05 &            0.90 &                 1.05 &                 2.46 &  2.20 & 0.03 &      5.17 \\\\\nPlatelets           & -0.00 &       1.00 &      0.00 &           -0.00 &            0.00 &                 1.00 &                 1.00 & -0.41 & 0.68 &      0.56 \\\\\nSerum Creatinine    &  0.32 &       1.38 &      0.07 &            0.18 &            0.46 &                 1.20 &                 1.58 &  4.58 & 0.00 &     17.68 \\\\\nserum\\_sodium        & -0.04 &       0.96 &      0.02 &           -0.09 &            0.00 &                 0.91 &                 1.00 & -1.90 & 0.06 &      4.12 \\\\\nsex                 & -0.24 &       0.79 &      0.25 &           -0.73 &            0.26 &                 0.48 &                 1.29 & -0.94 & 0.35 &      1.53 \\\\\nsmoking             &  0.13 &       1.14 &      0.25 &           -0.36 &            0.62 &                 0.70 &                 1.86 &  0.51 & 0.61 &      0.72 \\\\\n\\bottomrule\n\\end{tabular}\n",
            "text/html": [
              "<div>\n",
              "<style scoped>\n",
              "    .dataframe tbody tr th:only-of-type {\n",
              "        vertical-align: middle;\n",
              "    }\n",
              "\n",
              "    .dataframe tbody tr th {\n",
              "        vertical-align: top;\n",
              "    }\n",
              "\n",
              "    .dataframe thead th {\n",
              "        text-align: right;\n",
              "    }\n",
              "</style>\n",
              "<table border=\"1\" class=\"dataframe\">\n",
              "  <tbody>\n",
              "    <tr>\n",
              "      <th>model</th>\n",
              "      <td>lifelines.CoxPHFitter</td>\n",
              "    </tr>\n",
              "    <tr>\n",
              "      <th>duration col</th>\n",
              "      <td>'time'</td>\n",
              "    </tr>\n",
              "    <tr>\n",
              "      <th>event col</th>\n",
              "      <td>'DEATH_EVENT'</td>\n",
              "    </tr>\n",
              "    <tr>\n",
              "      <th>baseline estimation</th>\n",
              "      <td>breslow</td>\n",
              "    </tr>\n",
              "    <tr>\n",
              "      <th>number of observations</th>\n",
              "      <td>299</td>\n",
              "    </tr>\n",
              "    <tr>\n",
              "      <th>number of events observed</th>\n",
              "      <td>96</td>\n",
              "    </tr>\n",
              "    <tr>\n",
              "      <th>partial log-likelihood</th>\n",
              "      <td>-468.23</td>\n",
              "    </tr>\n",
              "    <tr>\n",
              "      <th>time fit was run</th>\n",
              "      <td>2021-08-23 15:50:04 UTC</td>\n",
              "    </tr>\n",
              "  </tbody>\n",
              "</table>\n",
              "</div><table border=\"1\" class=\"dataframe\">\n",
              "  <thead>\n",
              "    <tr style=\"text-align: right;\">\n",
              "      <th style=\"min-width: 12px;\"></th>\n",
              "      <th style=\"min-width: 12px;\">coef</th>\n",
              "      <th style=\"min-width: 12px;\">exp(coef)</th>\n",
              "      <th style=\"min-width: 12px;\">se(coef)</th>\n",
              "      <th style=\"min-width: 12px;\">coef lower 95%</th>\n",
              "      <th style=\"min-width: 12px;\">coef upper 95%</th>\n",
              "      <th style=\"min-width: 12px;\">exp(coef) lower 95%</th>\n",
              "      <th style=\"min-width: 12px;\">exp(coef) upper 95%</th>\n",
              "      <th style=\"min-width: 12px;\">z</th>\n",
              "      <th style=\"min-width: 12px;\">p</th>\n",
              "      <th style=\"min-width: 12px;\">-log2(p)</th>\n",
              "    </tr>\n",
              "  </thead>\n",
              "  <tbody>\n",
              "    <tr>\n",
              "      <th>Age</th>\n",
              "      <td>0.05</td>\n",
              "      <td>1.05</td>\n",
              "      <td>0.01</td>\n",
              "      <td>0.03</td>\n",
              "      <td>0.06</td>\n",
              "      <td>1.03</td>\n",
              "      <td>1.07</td>\n",
              "      <td>4.98</td>\n",
              "      <td>&lt;0.005</td>\n",
              "      <td>20.56</td>\n",
              "    </tr>\n",
              "    <tr>\n",
              "      <th>anaemia</th>\n",
              "      <td>0.46</td>\n",
              "      <td>1.58</td>\n",
              "      <td>0.22</td>\n",
              "      <td>0.04</td>\n",
              "      <td>0.89</td>\n",
              "      <td>1.04</td>\n",
              "      <td>2.42</td>\n",
              "      <td>2.12</td>\n",
              "      <td>0.03</td>\n",
              "      <td>4.89</td>\n",
              "    </tr>\n",
              "    <tr>\n",
              "      <th>CPK</th>\n",
              "      <td>0.00</td>\n",
              "      <td>1.00</td>\n",
              "      <td>0.00</td>\n",
              "      <td>0.00</td>\n",
              "      <td>0.00</td>\n",
              "      <td>1.00</td>\n",
              "      <td>1.00</td>\n",
              "      <td>2.23</td>\n",
              "      <td>0.03</td>\n",
              "      <td>5.26</td>\n",
              "    </tr>\n",
              "    <tr>\n",
              "      <th>diabetes</th>\n",
              "      <td>0.14</td>\n",
              "      <td>1.15</td>\n",
              "      <td>0.22</td>\n",
              "      <td>-0.30</td>\n",
              "      <td>0.58</td>\n",
              "      <td>0.74</td>\n",
              "      <td>1.78</td>\n",
              "      <td>0.63</td>\n",
              "      <td>0.53</td>\n",
              "      <td>0.91</td>\n",
              "    </tr>\n",
              "    <tr>\n",
              "      <th>Ejection Fraction</th>\n",
              "      <td>-0.05</td>\n",
              "      <td>0.95</td>\n",
              "      <td>0.01</td>\n",
              "      <td>-0.07</td>\n",
              "      <td>-0.03</td>\n",
              "      <td>0.93</td>\n",
              "      <td>0.97</td>\n",
              "      <td>-4.67</td>\n",
              "      <td>&lt;0.005</td>\n",
              "      <td>18.35</td>\n",
              "    </tr>\n",
              "    <tr>\n",
              "      <th>high_blood_pressure</th>\n",
              "      <td>0.48</td>\n",
              "      <td>1.61</td>\n",
              "      <td>0.22</td>\n",
              "      <td>0.05</td>\n",
              "      <td>0.90</td>\n",
              "      <td>1.05</td>\n",
              "      <td>2.46</td>\n",
              "      <td>2.20</td>\n",
              "      <td>0.03</td>\n",
              "      <td>5.17</td>\n",
              "    </tr>\n",
              "    <tr>\n",
              "      <th>Platelets</th>\n",
              "      <td>-0.00</td>\n",
              "      <td>1.00</td>\n",
              "      <td>0.00</td>\n",
              "      <td>-0.00</td>\n",
              "      <td>0.00</td>\n",
              "      <td>1.00</td>\n",
              "      <td>1.00</td>\n",
              "      <td>-0.41</td>\n",
              "      <td>0.68</td>\n",
              "      <td>0.56</td>\n",
              "    </tr>\n",
              "    <tr>\n",
              "      <th>Serum Creatinine</th>\n",
              "      <td>0.32</td>\n",
              "      <td>1.38</td>\n",
              "      <td>0.07</td>\n",
              "      <td>0.18</td>\n",
              "      <td>0.46</td>\n",
              "      <td>1.20</td>\n",
              "      <td>1.58</td>\n",
              "      <td>4.58</td>\n",
              "      <td>&lt;0.005</td>\n",
              "      <td>17.68</td>\n",
              "    </tr>\n",
              "    <tr>\n",
              "      <th>serum_sodium</th>\n",
              "      <td>-0.04</td>\n",
              "      <td>0.96</td>\n",
              "      <td>0.02</td>\n",
              "      <td>-0.09</td>\n",
              "      <td>0.00</td>\n",
              "      <td>0.91</td>\n",
              "      <td>1.00</td>\n",
              "      <td>-1.90</td>\n",
              "      <td>0.06</td>\n",
              "      <td>4.12</td>\n",
              "    </tr>\n",
              "    <tr>\n",
              "      <th>sex</th>\n",
              "      <td>-0.24</td>\n",
              "      <td>0.79</td>\n",
              "      <td>0.25</td>\n",
              "      <td>-0.73</td>\n",
              "      <td>0.26</td>\n",
              "      <td>0.48</td>\n",
              "      <td>1.29</td>\n",
              "      <td>-0.94</td>\n",
              "      <td>0.35</td>\n",
              "      <td>1.53</td>\n",
              "    </tr>\n",
              "    <tr>\n",
              "      <th>smoking</th>\n",
              "      <td>0.13</td>\n",
              "      <td>1.14</td>\n",
              "      <td>0.25</td>\n",
              "      <td>-0.36</td>\n",
              "      <td>0.62</td>\n",
              "      <td>0.70</td>\n",
              "      <td>1.86</td>\n",
              "      <td>0.51</td>\n",
              "      <td>0.61</td>\n",
              "      <td>0.72</td>\n",
              "    </tr>\n",
              "  </tbody>\n",
              "</table><br><div>\n",
              "<style scoped>\n",
              "    .dataframe tbody tr th:only-of-type {\n",
              "        vertical-align: middle;\n",
              "    }\n",
              "\n",
              "    .dataframe tbody tr th {\n",
              "        vertical-align: top;\n",
              "    }\n",
              "\n",
              "    .dataframe thead th {\n",
              "        text-align: right;\n",
              "    }\n",
              "</style>\n",
              "<table border=\"1\" class=\"dataframe\">\n",
              "  <tbody>\n",
              "    <tr>\n",
              "      <th>Concordance</th>\n",
              "      <td>0.74</td>\n",
              "    </tr>\n",
              "    <tr>\n",
              "      <th>Partial AIC</th>\n",
              "      <td>958.46</td>\n",
              "    </tr>\n",
              "    <tr>\n",
              "      <th>log-likelihood ratio test</th>\n",
              "      <td>81.95 on 11 df</td>\n",
              "    </tr>\n",
              "    <tr>\n",
              "      <th>-log2(p) of ll-ratio test</th>\n",
              "      <td>40.56</td>\n",
              "    </tr>\n",
              "  </tbody>\n",
              "</table>\n",
              "</div>"
            ],
            "text/plain": [
              "<lifelines.CoxPHFitter: fitted with 299 total observations, 203 right-censored observations>\n",
              "             duration col = 'time'\n",
              "                event col = 'DEATH_EVENT'\n",
              "      baseline estimation = breslow\n",
              "   number of observations = 299\n",
              "number of events observed = 96\n",
              "   partial log-likelihood = -468.23\n",
              "         time fit was run = 2021-08-23 15:50:04 UTC\n",
              "\n",
              "---\n",
              "                      coef  exp(coef)   se(coef)   coef lower 95%   coef upper 95%  exp(coef) lower 95%  exp(coef) upper 95%\n",
              "covariate                                                                                                                   \n",
              "Age                   0.05       1.05       0.01             0.03             0.06                 1.03                 1.07\n",
              "anaemia               0.46       1.58       0.22             0.04             0.89                 1.04                 2.42\n",
              "CPK                   0.00       1.00       0.00             0.00             0.00                 1.00                 1.00\n",
              "diabetes              0.14       1.15       0.22            -0.30             0.58                 0.74                 1.78\n",
              "Ejection Fraction    -0.05       0.95       0.01            -0.07            -0.03                 0.93                 0.97\n",
              "high_blood_pressure   0.48       1.61       0.22             0.05             0.90                 1.05                 2.46\n",
              "Platelets            -0.00       1.00       0.00            -0.00             0.00                 1.00                 1.00\n",
              "Serum Creatinine      0.32       1.38       0.07             0.18             0.46                 1.20                 1.58\n",
              "serum_sodium         -0.04       0.96       0.02            -0.09             0.00                 0.91                 1.00\n",
              "sex                  -0.24       0.79       0.25            -0.73             0.26                 0.48                 1.29\n",
              "smoking               0.13       1.14       0.25            -0.36             0.62                 0.70                 1.86\n",
              "\n",
              "                        z      p   -log2(p)\n",
              "covariate                                  \n",
              "Age                  4.98 <0.005      20.56\n",
              "anaemia              2.12   0.03       4.89\n",
              "CPK                  2.23   0.03       5.26\n",
              "diabetes             0.63   0.53       0.91\n",
              "Ejection Fraction   -4.67 <0.005      18.35\n",
              "high_blood_pressure  2.20   0.03       5.17\n",
              "Platelets           -0.41   0.68       0.56\n",
              "Serum Creatinine     4.58 <0.005      17.68\n",
              "serum_sodium        -1.90   0.06       4.12\n",
              "sex                 -0.94   0.35       1.53\n",
              "smoking              0.51   0.61       0.72\n",
              "---\n",
              "Concordance = 0.74\n",
              "Partial AIC = 958.46\n",
              "log-likelihood ratio test = 81.95 on 11 df\n",
              "-log2(p) of ll-ratio test = 40.56"
            ]
          },
          "metadata": {}
        }
      ]
    },
    {
      "cell_type": "code",
      "metadata": {
        "colab": {
          "base_uri": "https://localhost:8080/",
          "height": 281
        },
        "id": "uwJe7GAzvSd3",
        "outputId": "eb9a332a-234a-4ff4-f80f-1513b17d32d8"
      },
      "source": [
        " %matplotlib inline\n",
        "for treatment_type in (0,1):\n",
        "    mask_treat = df[\"sex\"] == treatment_type\n",
        "    time_treatment, survival_prob_treatment = kaplan_meier_estimator(\n",
        "        yyy[\"DEATH_EVENT\"][mask_treat], df[\"time\"][mask_treat]\n",
        "        )\n",
        "    if treatment_type==0:\n",
        "      type = 'Women'\n",
        "    else:\n",
        "      type = 'Men'\n",
        "    plt.step(time_treatment, survival_prob_treatment, where=\"post\",\n",
        "             label=\"sex = %s\" % type)\n",
        "\n",
        "plt.ylabel(\"est. probability of survival $\\hat{S}(t)$\")\n",
        "plt.xlabel(\"time $t$\")\n",
        "plt.legend(loc=\"best\")\n",
        "plt.savefig('sex.jpg',dpi=1200)"
      ],
      "execution_count": 76,
      "outputs": [
        {
          "output_type": "display_data",
          "data": {
            "image/png": "[encoded data removed]",
            "text/plain": [
              "<Figure size 432x288 with 1 Axes>"
            ]
          },
          "metadata": {
            "needs_background": "light"
          }
        }
      ]
    },
    {
      "cell_type": "code",
      "metadata": {
        "colab": {
          "base_uri": "https://localhost:8080/",
          "height": 279
        },
        "id": "xJNi-6bw6X_k",
        "outputId": "0993c5b9-bae2-4201-d720-9f45adc2f7ca"
      },
      "source": [
        "time, surv = kaplan_meier_estimator( yyy['DEATH_EVENT'],yyy['time'])\n",
        "plt.step(time,surv)\n",
        "plt.xlabel(\"time\")\n",
        "plt.ylabel(\"Estimated probability of survival\")\n",
        "plt.savefig('kaplan.jpg',dpi=1200)"
      ],
      "execution_count": 79,
      "outputs": [
        {
          "output_type": "display_data",
          "data": {
            "image/png": "[encoded data removed]",
            "text/plain": [
              "<Figure size 432x288 with 1 Axes>"
            ]
          },
          "metadata": {
            "needs_background": "light"
          }
        }
      ]
    },
    {
      "cell_type": "code",
      "metadata": {
        "colab": {
          "base_uri": "https://localhost:8080/",
          "height": 281
        },
        "id": "FWsrAv8r7JBT",
        "outputId": "10538d06-c89f-43c5-f331-daed72db4a82"
      },
      "source": [
        "for treatment_type in (0,1):\n",
        "    mask_treat = df[\"anaemia\"] == treatment_type\n",
        "    time_treatment, survival_prob_treatment = kaplan_meier_estimator(\n",
        "        yyy[\"DEATH_EVENT\"][mask_treat], df[\"time\"][mask_treat]\n",
        "        )\n",
        "    if treatment_type==0:\n",
        "      type = 'non-anemic'\n",
        "    else:\n",
        "      type = 'anemic'\n",
        "    plt.step(time_treatment, survival_prob_treatment, where=\"post\",\n",
        "             label=\"%s\" % type)\n",
        "\n",
        "plt.ylabel(\"est. probability of survival $\\hat{S}(t)$\")\n",
        "plt.xlabel(\"time $t$\")\n",
        "plt.legend(loc=\"best\")\n",
        "plt.savefig('anemia.jpg',dpi=1200)"
      ],
      "execution_count": 81,
      "outputs": [
        {
          "output_type": "display_data",
          "data": {
            "image/png": "[encoded data removed]",
            "text/plain": [
              "<Figure size 432x288 with 1 Axes>"
            ]
          },
          "metadata": {
            "needs_background": "light"
          }
        }
      ]
    },
    {
      "cell_type": "code",
      "metadata": {
        "colab": {
          "base_uri": "https://localhost:8080/",
          "height": 281
        },
        "id": "nmtcjW2I8Ata",
        "outputId": "50484260-2ff7-4ed5-fd31-10cb8153e02b"
      },
      "source": [
        "for treatment_type in (0,1):\n",
        "    mask_treat = df[\"diabetes\"] == treatment_type\n",
        "    time_treatment, survival_prob_treatment = kaplan_meier_estimator(\n",
        "        yyy[\"DEATH_EVENT\"][mask_treat], df[\"time\"][mask_treat]\n",
        "        )\n",
        "    if treatment_type==0:\n",
        "      type = 'normal'\n",
        "    else:\n",
        "      type = 'diabetic'\n",
        "    plt.step(time_treatment, survival_prob_treatment, where=\"post\",\n",
        "             label=\"%s\" % type)\n",
        "\n",
        "plt.ylabel(\"est. probability of survival $\\hat{S}(t)$\")\n",
        "plt.xlabel(\"time $t$\")\n",
        "plt.legend(loc=\"best\")\n",
        "plt.savefig('diabetes.jpg',dpi=1200)"
      ],
      "execution_count": 82,
      "outputs": [
        {
          "output_type": "display_data",
          "data": {
            "image/png": "[encoded data removed]",
            "text/plain": [
              "<Figure size 432x288 with 1 Axes>"
            ]
          },
          "metadata": {
            "needs_background": "light"
          }
        }
      ]
    },
    {
      "cell_type": "code",
      "metadata": {
        "colab": {
          "base_uri": "https://localhost:8080/",
          "height": 281
        },
        "id": "a7BaujPM9znG",
        "outputId": "6810a3c4-b638-44fb-eb8b-6ead44d28024"
      },
      "source": [
        "for treatment_type in (0,1):\n",
        "    mask_treat = df[\"high_blood_pressure\"] == treatment_type\n",
        "    time_treatment, survival_prob_treatment = kaplan_meier_estimator(\n",
        "        yyy[\"DEATH_EVENT\"][mask_treat], df[\"time\"][mask_treat]\n",
        "        )\n",
        "    if treatment_type==0:\n",
        "      type = 'normal'\n",
        "    else:\n",
        "      type = 'High BP'\n",
        "    plt.step(time_treatment, survival_prob_treatment, where=\"post\",\n",
        "             label=\"%s\" % type)\n",
        "\n",
        "plt.ylabel(\"est. probability of survival $\\hat{S}(t)$\")\n",
        "plt.xlabel(\"time $t$\")\n",
        "plt.legend(loc=\"best\")\n",
        "plt.savefig('bp.jpg',dpi=1200)"
      ],
      "execution_count": 83,
      "outputs": [
        {
          "output_type": "display_data",
          "data": {
            "image/png": "[encoded data removed]",
            "text/plain": [
              "<Figure size 432x288 with 1 Axes>"
            ]
          },
          "metadata": {
            "needs_background": "light"
          }
        }
      ]
    },
    {
      "cell_type": "code",
      "metadata": {
        "colab": {
          "base_uri": "https://localhost:8080/",
          "height": 281
        },
        "id": "lh56ZKhJ9zuv",
        "outputId": "d6991099-2864-4933-bdbe-13d52539a26b"
      },
      "source": [
        "for treatment_type in (0,1):\n",
        "    mask_treat = df[\"smoking\"] == treatment_type\n",
        "    time_treatment, survival_prob_treatment = kaplan_meier_estimator(\n",
        "        yyy[\"DEATH_EVENT\"][mask_treat], df[\"time\"][mask_treat]\n",
        "        )\n",
        "    if treatment_type==0:\n",
        "      type = 'non-smoker'\n",
        "    else:\n",
        "      type = 'smoker'\n",
        "    plt.step(time_treatment, survival_prob_treatment, where=\"post\",\n",
        "             label=\"%s\" % type)\n",
        "\n",
        "plt.ylabel(\"est. probability of survival $\\hat{S}(t)$\")\n",
        "plt.xlabel(\"time $t$\")\n",
        "plt.legend(loc=\"best\")\n",
        "plt.savefig('smoker.jpg',dpi=1200)"
      ],
      "execution_count": 85,
      "outputs": [
        {
          "output_type": "display_data",
          "data": {
            "image/png": "[encoded data removed]",
            "text/plain": [
              "<Figure size 432x288 with 1 Axes>"
            ]
          },
          "metadata": {
            "needs_background": "light"
          }
        }
      ]
    }
  ]
}